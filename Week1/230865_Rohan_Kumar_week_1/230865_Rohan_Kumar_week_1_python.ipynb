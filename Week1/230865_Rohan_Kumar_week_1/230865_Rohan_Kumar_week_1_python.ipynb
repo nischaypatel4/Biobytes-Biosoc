{
  "nbformat": 4,
  "nbformat_minor": 0,
  "metadata": {
    "colab": {
      "provenance": []
    },
    "kernelspec": {
      "name": "python3",
      "display_name": "Python 3"
    },
    "language_info": {
      "name": "python"
    }
  },
  "cells": [
    {
      "cell_type": "markdown",
      "source": [
        "Solving these exercises will help make you a better programmer. Solve them in order, because each solution builds scaffolding, working code, and knowledge you can use on future problems. Read the directions carefully, and have fun!"
      ],
      "metadata": {
        "id": "rMNaoJBIn0eW"
      }
    },
    {
      "cell_type": "markdown",
      "source": [
        "1. Fork the repository and make a copy of this notebook and rename it as your name_Assignment1\n",
        "2. Generate a pull request as taught to you in the GitHub Session. The pull request message should also be yourname_Assignment1\n",
        "\n"
      ],
      "metadata": {
        "id": "dtdJ1pURn--h"
      }
    },
    {
      "cell_type": "markdown",
      "source": [
        "# Orientation\n",
        "1. This code notebook is composed of cells. Each cell is either text or Python code.\n",
        "2. To run a cell of code, click the \"play button\" icon to the left of the cell or click on the cell and press \"Shift+Enter\" on your keyboard. This will execute the Python code contained in the cell. Executing a cell that defines a variable is important before executing or authoring a cell that depends on that previously created variable assignment.\n",
        "3. Each assert line is both an example and a test that tests for the presence and functionality of the instructed exercise."
      ],
      "metadata": {
        "id": "Y1Lrvy8eonkb"
      }
    },
    {
      "cell_type": "markdown",
      "source": [
        "# Outline\n",
        "1. Each cell starts with a problem statement that describes the\n",
        "exercise to complete.\n",
        "2. Underneath each problem statement, learners will need to write code to produce an answer.\n",
        "3. The assert lines test to see that your code solves the problem appropriately.\n",
        "4. Do not alter or delete the assertion tests, since those are providing automated testing.\n",
        "5. Many exercises will rely on previous solutions to be correctly completed\n",
        "6. The print(\"Exercise is complete\") line will only run if your solution passes the assertion test(s)\n",
        "7. Be sure to create programmatic solutions that will work for all inputs:\n",
        "For example, calling the is_even(2) returns True, but your function should work for all even numbers, both positive and negative."
      ],
      "metadata": {
        "id": "egsBMww1o-Kw"
      }
    },
    {
      "cell_type": "code",
      "source": [
        "# Example problem:\n",
        "# Uncomment the line below and run this cell.\n",
        "# The hashtag \"#\" character in a line of Python code is the comment character.\n",
        "doing_python_right_now = True\n",
        "\n",
        "# The lines below will test your answer. If you see an error, then it means that your answer is incorrect or incomplete.\n",
        "assert doing_python_right_now == True, \"If you see a NameError, it means that the variable is not created and assigned a value. An 'Assertion Error' means that the value of the variable is incorrect.\"\n",
        "print(\"Exercise 0 is correct\") # This line will print if your solution passes the assertion above."
      ],
      "metadata": {
        "id": "wn8-c0_hppDZ",
        "colab": {
          "base_uri": "https://localhost:8080/"
        },
        "outputId": "b389b9ec-cadb-46bc-aae4-ab6ea13d4fd3"
      },
      "execution_count": null,
      "outputs": [
        {
          "output_type": "stream",
          "name": "stdout",
          "text": [
            "Exercise 0 is correct\n"
          ]
        }
      ]
    },
    {
      "cell_type": "code",
      "source": [
        "# Exercise 1\n",
        "# On the line below, create a variable named on_mars_right_now and assign it the boolean value of False\n",
        "on_mars_right_now= False\n",
        "\n",
        "assert on_mars_right_now == False, \"If you see a Name Error, be sure to create the variable and assign it a value.\"\n",
        "print(\"Exercise 1 is correct.\")"
      ],
      "metadata": {
        "id": "b-U50lKCp-bF",
        "colab": {
          "base_uri": "https://localhost:8080/"
        },
        "outputId": "839f3850-bedb-41b3-865f-d3d51b9b0168"
      },
      "execution_count": null,
      "outputs": [
        {
          "output_type": "stream",
          "name": "stdout",
          "text": [
            "Exercise 1 is correct.\n"
          ]
        }
      ]
    },
    {
      "cell_type": "code",
      "source": [
        "# Exercise 2\n",
        "# Create a variable named fruits and assign it a list of fruits containing the following fruit names as strings:\n",
        "# mango, banana, guava, kiwi, and strawberry.\n",
        "fruits=[\"mango\", \"banana\", \"guava\", \"kiwi\", \"strawberry\"]\n",
        "assert fruits == [\"mango\", \"banana\", \"guava\", \"kiwi\", \"strawberry\"], \"If you see an Assert Error, ensure the variable contains all the strings in the provided order\"\n",
        "print(\"Exercise 2 is correct.\")"
      ],
      "metadata": {
        "id": "m_7w5CKtqDGY",
        "outputId": "928c9527-844f-4a7e-b6f0-1f94811c27b4",
        "colab": {
          "base_uri": "https://localhost:8080/"
        }
      },
      "execution_count": null,
      "outputs": [
        {
          "output_type": "stream",
          "name": "stdout",
          "text": [
            "Exercise 2 is correct.\n"
          ]
        }
      ]
    },
    {
      "cell_type": "code",
      "source": [
        "# Exercise 3\n",
        "# Create a variable named vegetables and assign it a list of fruits containing the following vegetable names as strings:\n",
        "# eggplant, broccoli, carrot, cauliflower, and zucchini\n",
        "vegetables=[\"eggplant\", \"broccoli\", \"carrot\", \"cauliflower\", \"zucchini\"]\n",
        "assert vegetables == [\"eggplant\", \"broccoli\", \"carrot\", \"cauliflower\", \"zucchini\"], \"Ensure the variable contains all the strings in the provided order\"\n",
        "print(\"Exercise 3 is correct.\")"
      ],
      "metadata": {
        "id": "13W-B4Z0qIQD",
        "outputId": "9b6c4c25-c3fb-4c55-f392-ae2784f6eac6",
        "colab": {
          "base_uri": "https://localhost:8080/"
        }
      },
      "execution_count": null,
      "outputs": [
        {
          "output_type": "stream",
          "name": "stdout",
          "text": [
            "Exercise 3 is correct.\n"
          ]
        }
      ]
    },
    {
      "cell_type": "markdown",
      "source": [
        "# List Operations\n",
        "Recommend finding and using built-in Python functionality whenever possible.\n",
        "Google any syntax that you do not know.\n"
      ],
      "metadata": {
        "id": "tfyYtxDxqUMY"
      }
    },
    {
      "cell_type": "code",
      "source": [
        "# Exercise 5\n",
        "# Given the following assigment of the list of fruits, add \"tomato\" to the end of the list.\n",
        "fruits = [\"mango\", \"banana\", \"guava\", \"kiwi\", \"strawberry\"]\n",
        "fruits.append(\"tomato\")\n",
        "\n",
        "assert fruits == [\"mango\", \"banana\", \"guava\", \"kiwi\", \"strawberry\", \"tomato\"], \"Ensure the variable contains all the strings in the right order\"\n",
        "print(\"Exercise 5 is correct\")"
      ],
      "metadata": {
        "id": "vHrZE8u-qLn0",
        "outputId": "5ffd9adc-298f-4634-9df9-2aeff439e922",
        "colab": {
          "base_uri": "https://localhost:8080/"
        }
      },
      "execution_count": null,
      "outputs": [
        {
          "output_type": "stream",
          "name": "stdout",
          "text": [
            "Exercise 5 is correct\n"
          ]
        }
      ]
    },
    {
      "cell_type": "code",
      "source": [
        "# Exercise 6\n",
        "# Given the list of numbers defined below, reverse the list of numbers that you created above.\n",
        "numbers = [1, 2, 3, 4, 5, 6, 7, 8, 9, 10]\n",
        "numbers.reverse()\n",
        "\n",
        "assert numbers == [10, 9, 8, 7, 6, 5, 4, 3, 2, 1], \"Assert Error means that the answer is incorrect.\"\n",
        "print(\"Exercise 6 is correct.\")"
      ],
      "metadata": {
        "id": "2x4qFPSgqmDh",
        "outputId": "6439361b-0380-40ec-b310-8cc7234d0aad",
        "colab": {
          "base_uri": "https://localhost:8080/"
        }
      },
      "execution_count": null,
      "outputs": [
        {
          "output_type": "stream",
          "name": "stdout",
          "text": [
            "Exercise 6 is correct.\n"
          ]
        }
      ]
    },
    {
      "cell_type": "code",
      "source": [
        "# Exercise 7\n",
        "# Sort the vegetables in alphabetical order\n",
        "vegetables = ['broccoli', 'carrot', 'cauliflower', 'eggplant', 'tomato', 'zucchini']\n",
        "sorted(vegetables)\n",
        "assert vegetables == ['broccoli', 'carrot', 'cauliflower', 'eggplant', 'tomato', 'zucchini']\n",
        "print(\"Exercise 7 is correct.\")"
      ],
      "metadata": {
        "id": "TlT-8Jmzqpb_",
        "outputId": "a4cad2eb-7620-435d-b840-3609278cd23d",
        "colab": {
          "base_uri": "https://localhost:8080/"
        }
      },
      "execution_count": null,
      "outputs": [
        {
          "output_type": "stream",
          "name": "stdout",
          "text": [
            "Exercise 7 is correct.\n"
          ]
        }
      ]
    },
    {
      "cell_type": "code",
      "source": [
        "# Exercise 8\n",
        "# Write the code necessary to sort the fruits in reverse alphabetical order\n",
        "fruits = ['tomato', 'strawberry', 'mango', 'kiwi', 'guava', 'banana']\n",
        "sorted(fruits, reverse=True)\n",
        "\n",
        "assert fruits == ['tomato', 'strawberry', 'mango', 'kiwi', 'guava', 'banana']\n",
        "print(\"Exercise 8 is correct.\")"
      ],
      "metadata": {
        "id": "TZUKbNM1qulZ",
        "outputId": "d9fe87a0-a82f-4c20-9235-c40944d9bde5",
        "colab": {
          "base_uri": "https://localhost:8080/"
        }
      },
      "execution_count": null,
      "outputs": [
        {
          "output_type": "stream",
          "name": "stdout",
          "text": [
            "Exercise 8 is correct.\n"
          ]
        }
      ]
    },
    {
      "cell_type": "code",
      "source": [
        "# Exercise 9\n",
        "# Write the code necessary to produce a single list that holds all fruits then all vegetables in the order as they were sorted above.\n",
        "fruits = ['tomato', 'strawberry', 'mango', 'kiwi', 'guava', 'banana']\n",
        "vegetables = ['broccoli', 'carrot', 'cauliflower', 'eggplant', 'tomato', 'zucchini']\n",
        "fruits_and_veggies= fruits + vegetables\n",
        "\n",
        "assert fruits_and_veggies == ['tomato', 'strawberry', 'mango', 'kiwi', 'guava', 'banana', 'broccoli', 'carrot', 'cauliflower', 'eggplant', 'tomato', 'zucchini']\n",
        "print(\"Exercise 9 is correct\")"
      ],
      "metadata": {
        "id": "MopnqOvpq451",
        "outputId": "f03411fd-bf17-4148-fb7f-de18ebf8128f",
        "colab": {
          "base_uri": "https://localhost:8080/"
        }
      },
      "execution_count": null,
      "outputs": [
        {
          "output_type": "stream",
          "name": "stdout",
          "text": [
            "Exercise 9 is correct\n"
          ]
        }
      ]
    },
    {
      "cell_type": "markdown",
      "source": [
        "# Functions\n",
        " Be sure to `return` values from your function definitions. The assert statements will call your function(s) for you.\n",
        "\n"
      ],
      "metadata": {
        "id": "oWLyvC9LrBCR"
      }
    },
    {
      "cell_type": "code",
      "source": [
        "# Run this cell in order to generate some numbers to use in our functions after this.\n",
        "import random\n",
        "\n",
        "positive_even_number = random.randrange(2, 101, 2)\n",
        "negative_even_number = random.randrange(-100, -1, 2)\n",
        "\n",
        "positive_odd_number = random.randrange(1, 100, 2)\n",
        "negative_odd_number = random.randrange(-101, 0, 2)\n",
        "print(\"We now have some random numbers available for future exercises.\")\n",
        "print(\"The random positive even number is\", positive_even_number)\n",
        "print(\"The random positive odd nubmer is\", positive_odd_number)\n",
        "print(\"The random negative even number\", negative_even_number)\n",
        "print(\"The random negative odd number\", negative_odd_number)"
      ],
      "metadata": {
        "colab": {
          "base_uri": "https://localhost:8080/"
        },
        "id": "mA1EpbOcsIIO",
        "outputId": "b0eefb8a-4e1c-4600-938d-8de958c5173e"
      },
      "execution_count": null,
      "outputs": [
        {
          "output_type": "stream",
          "name": "stdout",
          "text": [
            "We now have some random numbers available for future exercises.\n",
            "The random positive even number is 4\n",
            "The random positive odd nubmer is 81\n",
            "The random negative even number -62\n",
            "The random negative odd number -91\n"
          ]
        }
      ]
    },
    {
      "cell_type": "code",
      "source": [
        "# Example function defintion:\n",
        "# Write a say_hello function that adds the string \"Hello, \" to the beginning and \"!\" to the end of any given input.\n",
        "def say_hello(name):\n",
        "    return \"Hello, \" + name + \"!\"\n",
        "\n",
        "assert say_hello(\"Jane\") == \"Hello, Jane!\", \"Double check the inputs and data types\"\n",
        "assert say_hello(\"Pat\") == \"Hello, Pat!\", \"Double check the inputs and data types\"\n",
        "assert say_hello(\"Astrud\") == \"Hello, Astrud!\", \"Double check the inputs and data types\"\n",
        "print(\"The example function definition ran appropriately\")"
      ],
      "metadata": {
        "colab": {
          "base_uri": "https://localhost:8080/"
        },
        "id": "HcbHpZ4trI-W",
        "outputId": "9ccee7aa-7c53-477e-940e-68203c7677c7"
      },
      "execution_count": null,
      "outputs": [
        {
          "output_type": "stream",
          "name": "stdout",
          "text": [
            "The example function definition ran appropriately\n"
          ]
        }
      ]
    },
    {
      "cell_type": "code",
      "source": [
        "# Another example function definition:\n",
        "# This plus_two function takes in a variable and adds 2 to it.\n",
        "def plus_two(number):\n",
        "    return number + 2\n",
        "\n",
        "assert plus_two(3) == 5\n",
        "assert plus_two(0) == 2\n",
        "assert plus_two(-2) == 0\n",
        "print(\"The plus_two assertions executed appropriately... The second function definition example executed appropriately.\")"
      ],
      "metadata": {
        "colab": {
          "base_uri": "https://localhost:8080/"
        },
        "id": "BiIErtZbrQI7",
        "outputId": "31f4bf8c-7214-4752-8f51-92428e785234"
      },
      "execution_count": null,
      "outputs": [
        {
          "output_type": "stream",
          "name": "stdout",
          "text": [
            "The plus_two assertions executed appropriately... The second function definition example executed appropriately.\n"
          ]
        }
      ]
    },
    {
      "cell_type": "code",
      "source": [
        "# Exercise 10\n",
        "# Write a function definition for a function named add_one that takes in a number and returns that number plus one.\n",
        "def add_one(number):\n",
        "  return number + 1\n",
        "\n",
        "assert add_one(2) == 3, \"Ensure that the function is defined, named properly, and returns the correct value\"\n",
        "assert add_one(0) == 1, \"Zero plus one is one.\"\n",
        "assert add_one(positive_even_number) == positive_even_number + 1, \"Ensure that the function is defined, named properly, and returns the correct value\"\n",
        "assert add_one(negative_odd_number) == negative_odd_number + 1, \"Ensure that the function is defined, named properly, and returns the correct value\"\n",
        "print(\"Exercise 10 is correct.\")"
      ],
      "metadata": {
        "id": "EUGkV7nTrZbA",
        "outputId": "0d86b5eb-a127-4e3c-a9e3-e0f40494ce16",
        "colab": {
          "base_uri": "https://localhost:8080/"
        }
      },
      "execution_count": null,
      "outputs": [
        {
          "output_type": "stream",
          "name": "stdout",
          "text": [
            "Exercise 10 is correct.\n"
          ]
        }
      ]
    },
    {
      "cell_type": "code",
      "source": [
        "# Exercise 11\n",
        "# Write a function definition named is_odd that takes in a number and returns True or False if that number is odd.\n",
        "def is_odd(number):\n",
        "  if(number%2==0):\n",
        "    return False\n",
        "  elif(number%2==1):\n",
        "    return True\n",
        "\n",
        "assert is_odd(positive_odd_number) == True, \"Ensure that the function is defined, named properly, and returns the correct value\"\n",
        "assert is_odd(positive_even_number) == False, \"Ensure that the function is defined, named properly, and returns the correct value\"\n",
        "assert is_odd(negative_odd_number) == True, \"Ensure that the function is defined, named properly, and returns the correct value\"\n",
        "assert is_odd(negative_even_number) == False, \"Ensure that the function is defined, named properly, and returns the correct value\"\n",
        "print(\"Exercise 11 is correct.\")"
      ],
      "metadata": {
        "id": "iTQVLcarrcG3",
        "outputId": "05258e3e-6db6-44da-f693-e6f920c2ec48",
        "colab": {
          "base_uri": "https://localhost:8080/"
        }
      },
      "execution_count": null,
      "outputs": [
        {
          "output_type": "stream",
          "name": "stdout",
          "text": [
            "Exercise 11 is correct.\n"
          ]
        }
      ]
    },
    {
      "cell_type": "code",
      "source": [
        "# Exercise 12\n",
        "# Write a function definition named is_positive_even that takes in a number and returns True or False if the value is both greater than zero and even\n",
        "def is_positive_even(number):\n",
        "  if(number>0 and number%2==0):\n",
        "    return True\n",
        "  else:\n",
        "    return False\n",
        "\n",
        "assert is_positive_even(4) == True, \"Double check your syntax and logic\"\n",
        "assert is_positive_even(positive_odd_number) == False, \"Double check your syntax and logic\"\n",
        "assert is_positive_even(positive_even_number) == True, \"Double check your syntax and logic\"\n",
        "assert is_positive_even(negative_odd_number) == False, \"Double check your syntax and logic\"\n",
        "assert is_positive_even(negative_even_number) == False, \"Double check your syntax and logic\"\n",
        "print(\"Exercise 12 is correct.\")"
      ],
      "metadata": {
        "id": "G6Ai1Dhrri5D",
        "outputId": "4ca72443-747d-480f-d438-2c79d5c4f65f",
        "colab": {
          "base_uri": "https://localhost:8080/"
        }
      },
      "execution_count": null,
      "outputs": [
        {
          "output_type": "stream",
          "name": "stdout",
          "text": [
            "Exercise 12 is correct.\n"
          ]
        }
      ]
    },
    {
      "cell_type": "code",
      "source": [
        "# Exercise 13\n",
        "# Write a function definition named double that takes in a number and returns double the provided number.\n",
        "def double(number):\n",
        "  return number*2\n",
        "\n",
        "assert double(4) == 8\n",
        "assert double(5) == 10\n",
        "assert double(positive_odd_number) == positive_odd_number * 2\n",
        "assert double(positive_even_number) == positive_even_number * 2\n",
        "assert double(negative_odd_number) == negative_odd_number * 2\n",
        "assert double(negative_even_number) == negative_even_number * 2\n",
        "print(\"Exercise 13 is correct.\")"
      ],
      "metadata": {
        "id": "tm5TrqFArsjH",
        "outputId": "aac115da-cfbb-4181-ad71-66be18eccb14",
        "colab": {
          "base_uri": "https://localhost:8080/"
        }
      },
      "execution_count": null,
      "outputs": [
        {
          "output_type": "stream",
          "name": "stdout",
          "text": [
            "Exercise 13 is correct.\n"
          ]
        }
      ]
    },
    {
      "cell_type": "code",
      "source": [
        "# Exercise 14\n",
        "# Write a function definition named sum_of_squares that takes in two numbers, squares each number, then returns the sum of both squares.\n",
        "def sum_of_squares(num1,num2):\n",
        "  first = num1**2\n",
        "  second = num2**2\n",
        "  return first+second\n",
        "\n",
        "assert sum_of_squares(3, 2) == 13\n",
        "assert sum_of_squares(5, 2) == 29\n",
        "assert sum_of_squares(2, 4) == 20\n",
        "print(\"Exercise 14 is correct.\")"
      ],
      "metadata": {
        "id": "GSrhmkNwr6Qn",
        "outputId": "f33bf871-f209-4e00-bfb1-f98120aa9674",
        "colab": {
          "base_uri": "https://localhost:8080/"
        }
      },
      "execution_count": null,
      "outputs": [
        {
          "output_type": "stream",
          "name": "stdout",
          "text": [
            "Exercise 14 is correct.\n"
          ]
        }
      ]
    },
    {
      "cell_type": "markdown",
      "source": [
        "# Functions with Strings\n",
        "I recommend you go through the two google colab files I have shared if you have difficulty in this."
      ],
      "metadata": {
        "id": "PaiPvt74srzZ"
      }
    },
    {
      "cell_type": "code",
      "source": [
        "# Exercise 15\n",
        "# Write a function definition named has_vowels that takes in value and returns True if the string contains any vowels.\n",
        "def has_vowels(value):\n",
        "    vowels = 'aeiouAEIOU'\n",
        "    for char in value:\n",
        "        if char in vowels:\n",
        "            return True\n",
        "    return False\n",
        "\n",
        "assert has_vowels(\"banana\") == True\n",
        "assert has_vowels(\"ubuntu\") == True\n",
        "assert has_vowels(\"QQQQ\") == False\n",
        "assert has_vowels(\"wyrd\") == False\n",
        "print(\"Exercise 15 is correct.\")"
      ],
      "metadata": {
        "id": "4auRgTnMsbet",
        "outputId": "275ca6a9-ec65-488c-d4a0-4a44eb8e09c8",
        "colab": {
          "base_uri": "https://localhost:8080/"
        }
      },
      "execution_count": null,
      "outputs": [
        {
          "output_type": "stream",
          "name": "stdout",
          "text": [
            "Exercise 15 is correct.\n"
          ]
        }
      ]
    },
    {
      "cell_type": "code",
      "source": [
        "# Exercise 16\n",
        "# Write a function definition named count_vowels that takes in value and returns the count of the nubmer of vowels in a sequence.\n",
        "def count_vowels(value):\n",
        "    vowels = 'aeiouAEIOU'\n",
        "    count = 0\n",
        "    for char in value:\n",
        "        if char in vowels:\n",
        "            count += 1\n",
        "    return count\n",
        "\n",
        "assert count_vowels(\"banana\") == 3\n",
        "assert count_vowels(\"ubuntu\") == 3\n",
        "assert count_vowels(\"mango\") == 2\n",
        "assert count_vowels(\"QQQQ\") == 0\n",
        "assert count_vowels(\"wyrd\") == 0\n",
        "print(\"Exercise 16 is correct.\")"
      ],
      "metadata": {
        "id": "QN-lkLYftB0q",
        "outputId": "ec6a292c-2c04-492d-cdd6-ce773a4104d3",
        "colab": {
          "base_uri": "https://localhost:8080/"
        }
      },
      "execution_count": null,
      "outputs": [
        {
          "output_type": "stream",
          "name": "stdout",
          "text": [
            "Exercise 16 is correct.\n"
          ]
        }
      ]
    },
    {
      "cell_type": "code",
      "source": [
        "# Exercise 17\n",
        "# Write a function definition named remove_vowels that takes in string and returns the string without any vowels\n",
        "def remove_vowels(string):\n",
        "    vowels = 'aeiouAEIOU'\n",
        "    result = ''\n",
        "    for char in string:\n",
        "        if char not in vowels:\n",
        "            result += char\n",
        "    return result\n",
        "\n",
        "assert remove_vowels(\"banana\") == \"bnn\"\n",
        "assert remove_vowels(\"ubuntu\") == \"bnt\"\n",
        "assert remove_vowels(\"mango\") == \"mng\"\n",
        "assert remove_vowels(\"QQQQ\") == \"QQQQ\"\n",
        "print(\"Exercise 17 is correct.\")"
      ],
      "metadata": {
        "id": "3Uswu498tGDe",
        "outputId": "0d65a66d-a7e0-4cc7-b311-68c251ec5950",
        "colab": {
          "base_uri": "https://localhost:8080/"
        }
      },
      "execution_count": null,
      "outputs": [
        {
          "output_type": "stream",
          "name": "stdout",
          "text": [
            "Exercise 17 is correct.\n"
          ]
        }
      ]
    },
    {
      "cell_type": "code",
      "source": [
        "# Exercise 18\n",
        "# Write a function definition named starts_and_ends_with_vowel that takes in string and returns True if the string starts and ends with a vowel\n",
        "def starts_and_ends_with_vowel(string):\n",
        "    vowels = 'aeiouAEIOU'\n",
        "    if len(string) < 1:\n",
        "        return False\n",
        "    return string[0] in vowels and string[-1] in vowels\n",
        "\n",
        "assert starts_and_ends_with_vowel(\"ubuntu\") == True\n",
        "assert starts_and_ends_with_vowel(\"banana\") == False\n",
        "assert starts_and_ends_with_vowel(\"mango\") == False\n",
        "print(\"Exercise 18 is correct.\")"
      ],
      "metadata": {
        "id": "WabXu0XxtLCR",
        "outputId": "57ff05e0-e6ef-4125-c88e-3dcda820f7da",
        "colab": {
          "base_uri": "https://localhost:8080/"
        }
      },
      "execution_count": null,
      "outputs": [
        {
          "output_type": "stream",
          "name": "stdout",
          "text": [
            "Exercise 18 is correct.\n"
          ]
        }
      ]
    },
    {
      "cell_type": "markdown",
      "source": [
        "# Accessing List Elements\n"
      ],
      "metadata": {
        "id": "xCqaLNfCtcgG"
      }
    },
    {
      "cell_type": "code",
      "source": [
        "# Exercise 19\n",
        "# Write a function definition named first that takes in sequence and returns the first value of that sequence.\n",
        "def first(sequence):\n",
        "    return sequence[0]\n",
        "\n",
        "assert first(\"ubuntu\") == \"u\"\n",
        "assert first([1, 2, 3]) == 1\n",
        "assert first([\"python\", \"is\", \"awesome\"]) == \"python\"\n",
        "print(\"Exercise 19 is correct.\")"
      ],
      "metadata": {
        "id": "SA7pw41btcI-",
        "outputId": "1415c0f8-4468-4886-eba4-678d97fa18bf",
        "colab": {
          "base_uri": "https://localhost:8080/"
        }
      },
      "execution_count": null,
      "outputs": [
        {
          "output_type": "stream",
          "name": "stdout",
          "text": [
            "Exercise 19 is correct.\n"
          ]
        }
      ]
    },
    {
      "cell_type": "code",
      "source": [
        "# Exercise 20\n",
        "# Write a function definition named last that takes in sequence and returns the last value of that sequence.\n",
        "def last(sequence):\n",
        "    return sequence[-1]\n",
        "assert last(\"ubuntu\") == \"u\"\n",
        "assert last([1, 2, 3, 4]) == 4\n",
        "assert last([\"python\", \"is\", \"awesome\"]) == \"awesome\"\n",
        "assert last([\"kiwi\", \"mango\", \"guava\"]) == \"guava\"\n",
        "print(\"Exercise 20 is correct.\")"
      ],
      "metadata": {
        "id": "2LUxN5jitowc",
        "outputId": "0c4a01d3-ae38-4b88-d629-3a8343b358aa",
        "colab": {
          "base_uri": "https://localhost:8080/"
        }
      },
      "execution_count": null,
      "outputs": [
        {
          "output_type": "stream",
          "name": "stdout",
          "text": [
            "Exercise 20 is correct.\n"
          ]
        }
      ]
    },
    {
      "cell_type": "code",
      "source": [
        "# Exercise 21\n",
        "# Write a function definition named first_and_second that takes in sequence and returns the first and second value of that sequence as a list\n",
        "def first_and_second(sequence):\n",
        "    if len(sequence) >= 2:\n",
        "        return [sequence[0], sequence[1]]\n",
        "    else:\n",
        "      return None\n",
        "assert first_and_second([1, 2, 3, 4]) == [1, 2]\n",
        "assert first_and_second([\"python\", \"is\", \"awesome\"]) == [\"python\", \"is\"]\n",
        "assert first_and_second([\"strawberry\", \"kiwi\", \"mango\", \"guava\"]) == [\"strawberry\", \"kiwi\"]\n",
        "print(\"Exercise 21 is correct.\")"
      ],
      "metadata": {
        "id": "gdY9_AJCttvJ",
        "outputId": "5c82e425-fe49-42ab-da8b-9e63b47d7070",
        "colab": {
          "base_uri": "https://localhost:8080/"
        }
      },
      "execution_count": null,
      "outputs": [
        {
          "output_type": "stream",
          "name": "stdout",
          "text": [
            "Exercise 21 is correct.\n"
          ]
        }
      ]
    },
    {
      "cell_type": "code",
      "source": [
        "# Exercise 22\n",
        "# Write a function definition named first_to_last that takes in sequence and returns the sequence with the first value moved to the end of the sequence.\n",
        "def first_to_last(sequence):\n",
        "    if len(sequence) >= 1:\n",
        "        first_element = sequence[0]\n",
        "        return sequence[1:] + [first_element]\n",
        "    else:\n",
        "        return sequence\n",
        "assert first_to_last([1, 2, 3, 4]) == [2, 3, 4, 1]\n",
        "assert first_to_last([\"python\", \"is\", \"awesome\"]) == [\"is\", \"awesome\", \"python\"]\n",
        "assert first_to_last([\"strawberry\", \"kiwi\", \"mango\", \"guava\"]) == [\"kiwi\", \"mango\", \"guava\", \"strawberry\"]\n",
        "print(\"Exercise 22 is correct.\")"
      ],
      "metadata": {
        "id": "cDPGhuedt0OF",
        "outputId": "a26a4087-81ff-418c-fd78-fe8e5e307362",
        "colab": {
          "base_uri": "https://localhost:8080/"
        }
      },
      "execution_count": null,
      "outputs": [
        {
          "output_type": "stream",
          "name": "stdout",
          "text": [
            "Exercise 22 is correct.\n"
          ]
        }
      ]
    },
    {
      "cell_type": "markdown",
      "source": [
        "# Functions to Describe Data\n"
      ],
      "metadata": {
        "id": "8LRyayWlt6ZN"
      }
    },
    {
      "cell_type": "code",
      "source": [
        "# Exercise 23\n",
        "# Write a function definition named sum_all that takes in sequence of numbers and returns all the numbers added together.\n",
        "def sum_all(sequence):\n",
        "    return sum(sequence)\n",
        "\n",
        "assert sum_all([1, 2, 3, 4]) == 10\n",
        "assert sum_all([3, 3, 3]) == 9\n",
        "assert sum_all([0, 5, 6]) == 11\n",
        "print(\"Exercise 23 is correct.\")"
      ],
      "metadata": {
        "id": "m2sAHpw-t58l",
        "outputId": "f0fd9e16-f2b5-41be-ed9f-2e55ac3cc25f",
        "colab": {
          "base_uri": "https://localhost:8080/"
        }
      },
      "execution_count": null,
      "outputs": [
        {
          "output_type": "stream",
          "name": "stdout",
          "text": [
            "Exercise 23 is correct.\n"
          ]
        }
      ]
    },
    {
      "cell_type": "code",
      "source": [
        "# Exercise 24\n",
        "# Write a function definition named mean that takes in sequence of numbers and returns the average value\n",
        "def mean(sequence):\n",
        "    if len(sequence) == 0:\n",
        "        return 0\n",
        "    return sum(sequence) / len(sequence)\n",
        "assert mean([1, 2, 3, 4, 5]) == 3.0\n",
        "assert mean([1, 2, 3]) == 2.0\n",
        "assert mean([1, 5, 6]) == 4.0\n",
        "assert mean([1, 2, 5, 6]) == 3.5\n",
        "print(\"Exercise 24 is correct.\")"
      ],
      "metadata": {
        "id": "Mt2EeKsfuEIW",
        "outputId": "96e2f3e1-8f3b-4108-a5cf-075797fbbe90",
        "colab": {
          "base_uri": "https://localhost:8080/"
        }
      },
      "execution_count": null,
      "outputs": [
        {
          "output_type": "stream",
          "name": "stdout",
          "text": [
            "Exercise 24 is correct.\n"
          ]
        }
      ]
    },
    {
      "cell_type": "code",
      "source": [
        "# Exercise 24\n",
        "# Write a function definition named mode that takes in sequence of numbers and returns the most commonly occuring value\n",
        "def mode(sequence):\n",
        "    counts = {}\n",
        "    for num in sequence:\n",
        "        if num in counts:\n",
        "            counts[num] += 1\n",
        "        else:\n",
        "            counts[num] = 1\n",
        "    max_count = -1\n",
        "    mode_value = None\n",
        "    for num, count in counts.items():\n",
        "        if count > max_count:\n",
        "            max_count = count\n",
        "            mode_value = num\n",
        "    return mode_value\n",
        "assert mode([1, 2, 2, 3, 4]) == 2\n",
        "assert mode([1, 1, 2, 3]) == 1\n",
        "assert mode([2, 2, 3, 3, 3]) == 3\n",
        "print(\"Exercise 24 is correct.\")"
      ],
      "metadata": {
        "id": "HgLdQbNTuMqz",
        "outputId": "6ec34b44-6739-4bea-ec92-ab34dbf91052",
        "colab": {
          "base_uri": "https://localhost:8080/"
        }
      },
      "execution_count": null,
      "outputs": [
        {
          "output_type": "stream",
          "name": "stdout",
          "text": [
            "Exercise 24 is correct.\n"
          ]
        }
      ]
    },
    {
      "cell_type": "markdown",
      "source": [
        "# Applying Functions to Lists\n"
      ],
      "metadata": {
        "id": "F_MVcTfIuSiy"
      }
    },
    {
      "cell_type": "code",
      "source": [
        "# Exercise 25\n",
        "# Write a function definition named get_highest_number that takes in sequence of numbers and returns the largest number.\n",
        "def get_highest_number(numbers):\n",
        "    if not numbers:\n",
        "        return None\n",
        "    highest = numbers[0]\n",
        "    for num in numbers:\n",
        "        if num > highest:\n",
        "            highest = num\n",
        "    return highest\n",
        "assert get_highest_number([1, 2, 3]) == 3\n",
        "assert get_highest_number([-5, -4, -3, -2, -1, 1, 2, 3, 4, 5]) == 5\n",
        "assert get_highest_number([-5, -3, 1]) == 1\n",
        "print(\"Exercise 25 is correct.\")"
      ],
      "metadata": {
        "id": "KAyrqevouXow",
        "outputId": "1503f2f4-a336-415f-fe2a-74de4513d08d",
        "colab": {
          "base_uri": "https://localhost:8080/"
        }
      },
      "execution_count": null,
      "outputs": [
        {
          "output_type": "stream",
          "name": "stdout",
          "text": [
            "Exercise 25 is correct.\n"
          ]
        }
      ]
    },
    {
      "cell_type": "code",
      "source": [
        "# Exercise 26\n",
        "# Write a function definition named only_odd_numbers that takes in sequence of numbers and returns the odd numbers in a list.\n",
        "def only_odd_numbers(numbers):\n",
        "    odd_numbers = [num for num in numbers if num % 2 != 0]\n",
        "    return odd_numbers\n",
        "\n",
        "assert only_odd_numbers([1, 2, 3]) == [1, 3]\n",
        "assert only_odd_numbers([-5, -4, -3, -2, -1, 1, 2, 3, 4, 5]) == [-5, -3, -1, 1, 3, 5]\n",
        "assert only_odd_numbers([-4, -3, 1]) == [-3, 1]\n",
        "assert only_odd_numbers([2, 2, 2, 2, 2]) == []\n",
        "print(\"Exercise 26 is correct.\")"
      ],
      "metadata": {
        "id": "517qI-KmucIa",
        "outputId": "670de52f-6c04-439e-d1a7-b10527014791",
        "colab": {
          "base_uri": "https://localhost:8080/"
        }
      },
      "execution_count": null,
      "outputs": [
        {
          "output_type": "stream",
          "name": "stdout",
          "text": [
            "Exercise 26 is correct.\n"
          ]
        }
      ]
    },
    {
      "cell_type": "code",
      "source": [
        "# Exercise 27\n",
        "# Write a function definition named count_evens that takes in sequence of numbers and returns the number of even numbers\n",
        "def count_evens(numbers):\n",
        "    count = 0\n",
        "    for num in numbers:\n",
        "        if num % 2 == 0:\n",
        "            count += 1\n",
        "    return count\n",
        "assert count_evens([1, 2, 3]) == 1\n",
        "assert count_evens([2, 5, 6]) == 2\n",
        "assert count_evens([3, 3, 3]) == 0\n",
        "assert count_evens([5, 6, 7, 8] ) == 2\n",
        "print(\"Exercise 27 is correct.\")"
      ],
      "metadata": {
        "id": "uCpfD1NnugoD",
        "outputId": "bb5470c0-0a0b-4d6f-c41c-96103533df06",
        "colab": {
          "base_uri": "https://localhost:8080/"
        }
      },
      "execution_count": null,
      "outputs": [
        {
          "output_type": "stream",
          "name": "stdout",
          "text": [
            "Exercise 27 is correct.\n"
          ]
        }
      ]
    },
    {
      "cell_type": "code",
      "source": [
        "# Exercise 28\n",
        "# Write a function definition named shortest_string that takes in a list of strings and returns the shortest string in the list.\n",
        "def shortest_string(strings):\n",
        "    if not strings:\n",
        "        return None\n",
        "    shortest = strings[0]\n",
        "    for string in strings[1:]:\n",
        "        if len(string) < len(shortest):\n",
        "            shortest = string\n",
        "    return shortest\n",
        "assert shortest_string([\"kiwi\", \"mango\", \"strawberry\"]) == \"kiwi\"\n",
        "assert shortest_string([\"hello\", \"everybody\"]) == \"hello\"\n",
        "assert shortest_string([\"mary\", \"had\", \"a\", \"little\", \"lamb\"]) == \"a\"\n",
        "print(\"Exercise 28 is correct.\")"
      ],
      "metadata": {
        "id": "RxqDOb7Wum-C",
        "outputId": "d3f98b40-1c7c-4166-810b-eecee2a62a45",
        "colab": {
          "base_uri": "https://localhost:8080/"
        }
      },
      "execution_count": null,
      "outputs": [
        {
          "output_type": "stream",
          "name": "stdout",
          "text": [
            "Exercise 28 is correct.\n"
          ]
        }
      ]
    },
    {
      "cell_type": "markdown",
      "source": [
        "# Working with Sets\n",
        "Take a look at the `set` function in Python, the `set` data type, and built-in `set` methods."
      ],
      "metadata": {
        "id": "D9arvRTSu482"
      }
    },
    {
      "cell_type": "code",
      "source": [
        "# Example set function usage\n",
        "print(set(\"kiwi\"))\n",
        "print(set([1, 2, 2, 3, 3, 3, 4, 4, 4, 4]))"
      ],
      "metadata": {
        "colab": {
          "base_uri": "https://localhost:8080/"
        },
        "id": "4XjNxjkFu4b-",
        "outputId": "2126f541-9567-4d09-cb35-c3e3139d2922"
      },
      "execution_count": null,
      "outputs": [
        {
          "output_type": "stream",
          "name": "stdout",
          "text": [
            "{'w', 'k', 'i'}\n",
            "{1, 2, 3, 4}\n"
          ]
        }
      ]
    },
    {
      "cell_type": "code",
      "source": [
        "# Exercise 29\n",
        "# Write a function definition named get_unique_values that takes in a list and returns a set with only the unique values from that list.\n",
        "def get_unique_values(lst):\n",
        "    unique_values = set(lst)\n",
        "    return unique_values\n",
        "\n",
        "assert get_unique_values([\"ant\", \"ant\", \"mosquito\", \"mosquito\", \"ladybug\"]) == {\"ant\", \"mosquito\", \"ladybug\"}\n",
        "assert get_unique_values([\"b\", \"a\", \"n\", \"a\", \"n\", \"a\", \"s\"]) == {\"b\", \"a\", \"n\", \"s\"}\n",
        "assert get_unique_values([\"mary\", \"had\", \"a\", \"little\", \"lamb\", \"little\", \"lamb\", \"little\", \"lamb\"]) == {\"mary\", \"had\", \"a\", \"little\", \"lamb\"}\n",
        "print(\"Exercise 29 is correct.\")"
      ],
      "metadata": {
        "id": "D3N-ZOg6vTpM",
        "outputId": "e424ce78-b735-4658-8544-e84b0d0cec93",
        "colab": {
          "base_uri": "https://localhost:8080/"
        }
      },
      "execution_count": null,
      "outputs": [
        {
          "output_type": "stream",
          "name": "stdout",
          "text": [
            "Exercise 29 is correct.\n"
          ]
        }
      ]
    },
    {
      "cell_type": "code",
      "source": [
        "# Exercise 30\n",
        "# Write a function definition named get_values_in_common that takes two lists and returns a single set with the values that each list has in common\n",
        "def get_values_in_common(list1, list2):\n",
        "    set1 = set(list1)\n",
        "    set2 = set(list2)\n",
        "    common_values = set1.intersection(set2)\n",
        "    return common_values\n",
        "assert get_values_in_common([5, 1, 2, 3], [3, 4, 5, 5]) == {3, 5}\n",
        "assert get_values_in_common([1, 2], [2, 2, 3]) == {2}\n",
        "assert get_values_in_common([\"tomato\", \"mango\", \"kiwi\"], [\"eggplant\", \"tomato\", \"broccoli\"]) == {\"tomato\"}\n",
        "print(\"Exercise 30 is correct.\")"
      ],
      "metadata": {
        "id": "myQNUXapvXee",
        "outputId": "849f5ccf-b10a-4794-c4a7-09bfbd9811f9",
        "colab": {
          "base_uri": "https://localhost:8080/"
        }
      },
      "execution_count": null,
      "outputs": [
        {
          "output_type": "stream",
          "name": "stdout",
          "text": [
            "Exercise 30 is correct.\n"
          ]
        }
      ]
    },
    {
      "cell_type": "code",
      "source": [],
      "metadata": {
        "id": "pzrDil06vdDj"
      },
      "execution_count": null,
      "outputs": []
    }
  ]
}
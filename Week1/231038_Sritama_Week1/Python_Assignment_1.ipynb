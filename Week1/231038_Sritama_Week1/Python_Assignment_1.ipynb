{
 "cells": [
  {
   "cell_type": "markdown",
   "metadata": {
    "id": "rMNaoJBIn0eW"
   },
   "source": [
    "Solving these exercises will help make you a better programmer. Solve them in order, because each solution builds scaffolding, working code, and knowledge you can use on future problems. Read the directions carefully, and have fun!"
   ]
  },
  {
   "cell_type": "markdown",
   "metadata": {
    "id": "dtdJ1pURn--h"
   },
   "source": [
    "1. Fork the repository and make a copy of this notebook and rename it as your name_Assignment1\n",
    "2. Generate a pull request as taught to you in the GitHub Session. The pull request message should also be yourname_Assignment1\n",
    "\n"
   ]
  },
  {
   "cell_type": "markdown",
   "metadata": {
    "id": "Y1Lrvy8eonkb"
   },
   "source": [
    "# Orientation\n",
    "1. This code notebook is composed of cells. Each cell is either text or Python code.\n",
    "2. To run a cell of code, click the \"play button\" icon to the left of the cell or click on the cell and press \"Shift+Enter\" on your keyboard. This will execute the Python code contained in the cell. Executing a cell that defines a variable is important before executing or authoring a cell that depends on that previously created variable assignment.\n",
    "3. Each assert line is both an example and a test that tests for the presence and functionality of the instructed exercise."
   ]
  },
  {
   "cell_type": "markdown",
   "metadata": {
    "id": "egsBMww1o-Kw"
   },
   "source": [
    "# Outline\n",
    "1. Each cell starts with a problem statement that describes the\n",
    "exercise to complete.\n",
    "2. Underneath each problem statement, learners will need to write code to produce an answer.\n",
    "3. The assert lines test to see that your code solves the problem appropriately.\n",
    "4. Do not alter or delete the assertion tests, since those are providing automated testing.\n",
    "5. Many exercises will rely on previous solutions to be correctly completed\n",
    "6. The print(\"Exercise is complete\") line will only run if your solution passes the assertion test(s)\n",
    "7. Be sure to create programmatic solutions that will work for all inputs:\n",
    "For example, calling the is_even(2) returns True, but your function should work for all even numbers, both positive and negative."
   ]
  },
  {
   "cell_type": "code",
   "execution_count": null,
   "metadata": {
    "colab": {
     "base_uri": "https://localhost:8080/"
    },
    "id": "wn8-c0_hppDZ",
    "outputId": "36bffe8f-c187-4110-b734-dc2988760428"
   },
   "outputs": [
    {
     "name": "stdout",
     "output_type": "stream",
     "text": [
      "Exercise 0 is correct\n"
     ]
    }
   ],
   "source": [
    "# Example problem:\n",
    "# Uncomment the line below and run this cell.\n",
    "# The hashtag \"#\" character in a line of Python code is the comment character.\n",
    "doing_python_right_now = True\n",
    "\n",
    "# The lines below will test your answer. If you see an error, then it means that your answer is incorrect or incomplete.\n",
    "assert doing_python_right_now == True, \"If you see a NameError, it means that the variable is not created and assigned a value. An 'Assertion Error' means that the value of the variable is incorrect.\"\n",
    "print(\"Exercise 0 is correct\") # This line will print if your solution passes the assertion above."
   ]
  },
  {
   "cell_type": "code",
   "execution_count": 3,
   "metadata": {
    "colab": {
     "base_uri": "https://localhost:8080/"
    },
    "id": "b-U50lKCp-bF",
    "outputId": "9278b6e8-d5a6-47c2-fb8f-195e1b66bc28"
   },
   "outputs": [
    {
     "name": "stdout",
     "output_type": "stream",
     "text": [
      "Exercise 1 is correct.\n"
     ]
    }
   ],
   "source": [
    "# Exercise 1\n",
    "# On the line below, create a variable named on_mars_right_now and assign it the boolean value of False\n",
    "on_mars_right_now = False\n",
    "assert on_mars_right_now == False, \"If you see a Name Error, be sure to create the variable and assign it a value.\"\n",
    "print(\"Exercise 1 is correct.\")"
   ]
  },
  {
   "cell_type": "code",
   "execution_count": 4,
   "metadata": {
    "id": "m_7w5CKtqDGY"
   },
   "outputs": [
    {
     "name": "stdout",
     "output_type": "stream",
     "text": [
      "Exercise 2 is correct.\n"
     ]
    }
   ],
   "source": [
    "# Exercise 2\n",
    "# Create a variable named fruits and assign it a list of fruits containing the following fruit names as strings:\n",
    "# mango, banana, guava, kiwi, and strawberry.\n",
    "fruits = [\"mango\", \"banana\", \"guava\", \"kiwi\", 'strawberry']\n",
    "assert fruits == [\"mango\", \"banana\", \"guava\", \"kiwi\", \"strawberry\"], \"If you see an Assert Error, ensure the variable contains all the strings in the provided order\"\n",
    "print(\"Exercise 2 is correct.\")"
   ]
  },
  {
   "cell_type": "code",
   "execution_count": 5,
   "metadata": {
    "id": "13W-B4Z0qIQD"
   },
   "outputs": [
    {
     "name": "stdout",
     "output_type": "stream",
     "text": [
      "Exercise 3 is correct.\n"
     ]
    }
   ],
   "source": [
    "# Exercise 3\n",
    "# Create a variable named vegetables and assign it a list of fruits containing the following vegetable names as strings:\n",
    "# eggplant, broccoli, carrot, cauliflower, and zucchini\n",
    "vegetables = [\"eggplant\", \"broccoli\", \"carrot\", \"cauliflower\", \"zucchini\"]\n",
    "assert vegetables == [\"eggplant\", \"broccoli\", \"carrot\", \"cauliflower\", \"zucchini\"], \"Ensure the variable contains all the strings in the provided order\"\n",
    "print(\"Exercise 3 is correct.\")"
   ]
  },
  {
   "cell_type": "markdown",
   "metadata": {
    "id": "tfyYtxDxqUMY"
   },
   "source": [
    "# List Operations\n",
    "Recommend finding and using built-in Python functionality whenever possible.\n",
    "Google any syntax that you do not know.\n"
   ]
  },
  {
   "cell_type": "code",
   "execution_count": 6,
   "metadata": {
    "id": "vHrZE8u-qLn0"
   },
   "outputs": [
    {
     "name": "stdout",
     "output_type": "stream",
     "text": [
      "Exercise 5 is correct\n"
     ]
    }
   ],
   "source": [
    "# Exercise 5\n",
    "# Given the following assigment of the list of fruits, add \"tomato\" to the end of the list.\n",
    "fruits = [\"mango\", \"banana\", \"guava\", \"kiwi\", \"strawberry\"]\n",
    "fruits.append(\"tomato\")\n",
    "assert fruits == [\"mango\", \"banana\", \"guava\", \"kiwi\", \"strawberry\", \"tomato\"], \"Ensure the variable contains all the strings in the right order\"\n",
    "print(\"Exercise 5 is correct\")"
   ]
  },
  {
   "cell_type": "code",
   "execution_count": 7,
   "metadata": {
    "id": "2x4qFPSgqmDh"
   },
   "outputs": [
    {
     "name": "stdout",
     "output_type": "stream",
     "text": [
      "Exercise 6 is correct.\n"
     ]
    }
   ],
   "source": [
    "# Exercise 6\n",
    "# Given the list of numbers defined below, reverse the list of numbers that you created above.\n",
    "numbers = [1, 2, 3, 4, 5, 6, 7, 8, 9, 10]\n",
    "numbers.reverse()\n",
    "\n",
    "assert numbers == [10, 9, 8, 7, 6, 5, 4, 3, 2, 1], \"Assert Error means that the answer is incorrect.\"\n",
    "print(\"Exercise 6 is correct.\")"
   ]
  },
  {
   "cell_type": "code",
   "execution_count": 11,
   "metadata": {
    "id": "TlT-8Jmzqpb_"
   },
   "outputs": [
    {
     "name": "stdout",
     "output_type": "stream",
     "text": [
      "Exercise 7 is correct.\n"
     ]
    }
   ],
   "source": [
    "# Exercise 7\n",
    "# Sort the vegetables in alphabetical order\n",
    "vegetables == [\"eggplant\", \"broccoli\", \"carrot\", \"cauliflower\", \"zucchini\"]\n",
    "vegetables.sort()\n",
    "assert vegetables == ['broccoli', 'carrot', 'cauliflower', 'eggplant', 'tomato', 'zucchini']\n",
    "print(\"Exercise 7 is correct.\")"
   ]
  },
  {
   "cell_type": "code",
   "execution_count": 12,
   "metadata": {
    "id": "TZUKbNM1qulZ"
   },
   "outputs": [
    {
     "name": "stdout",
     "output_type": "stream",
     "text": [
      "Exercise 8 is correct.\n"
     ]
    }
   ],
   "source": [
    "# Exercise 8\n",
    "# Write the code necessary to sort the fruits in reverse alphabetical order\n",
    "fruits = [\"mango\", \"banana\", \"guava\", \"kiwi\", \"strawberry\", \"tomato\"]\n",
    "fruits.sort()\n",
    "fruits.reverse()\n",
    "assert fruits == ['tomato', 'strawberry', 'mango', 'kiwi', 'guava', 'banana']\n",
    "print(\"Exercise 8 is correct.\")"
   ]
  },
  {
   "cell_type": "code",
   "execution_count": 15,
   "metadata": {
    "id": "MopnqOvpq451"
   },
   "outputs": [
    {
     "name": "stdout",
     "output_type": "stream",
     "text": [
      "Exercise 9 is correct\n"
     ]
    }
   ],
   "source": [
    "# Exercise 9\n",
    "# Write the code necessary to produce a single list that holds all fruits then all vegetables in the order as they were sorted above.\n",
    "vegetables = ['broccoli', 'carrot', 'cauliflower', 'eggplant', 'tomato', 'zucchini']\n",
    "fruits = ['tomato', 'strawberry', 'mango', 'kiwi', 'guava', 'banana']\n",
    "fruits_and_veggies = fruits+vegetables\n",
    "assert fruits_and_veggies == ['tomato', 'strawberry', 'mango', 'kiwi', 'guava', 'banana', 'broccoli', 'carrot', 'cauliflower', 'eggplant', 'tomato', 'zucchini']\n",
    "print(\"Exercise 9 is correct\")"
   ]
  },
  {
   "cell_type": "markdown",
   "metadata": {
    "id": "oWLyvC9LrBCR"
   },
   "source": [
    "# Functions\n",
    " Be sure to `return` values from your function definitions. The assert statements will call your function(s) for you.\n",
    "\n"
   ]
  },
  {
   "cell_type": "code",
   "execution_count": 16,
   "metadata": {
    "colab": {
     "base_uri": "https://localhost:8080/"
    },
    "id": "mA1EpbOcsIIO",
    "outputId": "95eedf22-94ab-4605-8532-42ff90358c02"
   },
   "outputs": [
    {
     "name": "stdout",
     "output_type": "stream",
     "text": [
      "We now have some random numbers available for future exercises.\n",
      "The random positive even number is 82\n",
      "The random positive odd nubmer is 19\n",
      "The random negative even number -4\n",
      "The random negative odd number -55\n"
     ]
    }
   ],
   "source": [
    "# Run this cell in order to generate some numbers to use in our functions after this.\n",
    "import random\n",
    "\n",
    "positive_even_number = random.randrange(2, 101, 2)\n",
    "negative_even_number = random.randrange(-100, -1, 2)\n",
    "\n",
    "positive_odd_number = random.randrange(1, 100, 2)\n",
    "negative_odd_number = random.randrange(-101, 0, 2)\n",
    "print(\"We now have some random numbers available for future exercises.\")\n",
    "print(\"The random positive even number is\", positive_even_number)\n",
    "print(\"The random positive odd nubmer is\", positive_odd_number)\n",
    "print(\"The random negative even number\", negative_even_number)\n",
    "print(\"The random negative odd number\", negative_odd_number)"
   ]
  },
  {
   "cell_type": "code",
   "execution_count": 17,
   "metadata": {
    "colab": {
     "base_uri": "https://localhost:8080/"
    },
    "id": "HcbHpZ4trI-W",
    "outputId": "1928f561-b383-4f69-cf78-69b100841949"
   },
   "outputs": [
    {
     "name": "stdout",
     "output_type": "stream",
     "text": [
      "The example function definition ran appropriately\n"
     ]
    }
   ],
   "source": [
    "# Example function defintion:\n",
    "# Write a say_hello function that adds the string \"Hello, \" to the beginning and \"!\" to the end of any given input.\n",
    "def say_hello(name):\n",
    "    return \"Hello, \" + name + \"!\"\n",
    "\n",
    "assert say_hello(\"Jane\") == \"Hello, Jane!\", \"Double check the inputs and data types\"\n",
    "assert say_hello(\"Pat\") == \"Hello, Pat!\", \"Double check the inputs and data types\"\n",
    "assert say_hello(\"Astrud\") == \"Hello, Astrud!\", \"Double check the inputs and data types\"\n",
    "print(\"The example function definition ran appropriately\")"
   ]
  },
  {
   "cell_type": "code",
   "execution_count": 18,
   "metadata": {
    "colab": {
     "base_uri": "https://localhost:8080/"
    },
    "id": "BiIErtZbrQI7",
    "outputId": "91ada39f-23cf-42f1-d351-f6ffb1566aae"
   },
   "outputs": [
    {
     "name": "stdout",
     "output_type": "stream",
     "text": [
      "The plus_two assertions executed appropriately... The second function definition example executed appropriately.\n"
     ]
    }
   ],
   "source": [
    "# Another example function definition:\n",
    "# This plus_two function takes in a variable and adds 2 to it.\n",
    "def plus_two(number):\n",
    "    return number + 2\n",
    "\n",
    "assert plus_two(3) == 5\n",
    "assert plus_two(0) == 2\n",
    "assert plus_two(-2) == 0\n",
    "print(\"The plus_two assertions executed appropriately... The second function definition example executed appropriately.\")"
   ]
  },
  {
   "cell_type": "code",
   "execution_count": 19,
   "metadata": {
    "id": "EUGkV7nTrZbA"
   },
   "outputs": [
    {
     "name": "stdout",
     "output_type": "stream",
     "text": [
      "Exercise 10 is correct.\n"
     ]
    }
   ],
   "source": [
    "# Exercise 10\n",
    "# Write a function definition for a function named add_one that takes in a number and returns that number plus one.\n",
    "def add_one(number):\n",
    "    return number + 1\n",
    "\n",
    "assert add_one(2) == 3, \"Ensure that the function is defined, named properly, and returns the correct value\"\n",
    "assert add_one(0) == 1, \"Zero plus one is one.\"\n",
    "assert add_one(positive_even_number) == positive_even_number + 1, \"Ensure that the function is defined, named properly, and returns the correct value\"\n",
    "assert add_one(negative_odd_number) == negative_odd_number + 1, \"Ensure that the function is defined, named properly, and returns the correct value\"\n",
    "print(\"Exercise 10 is correct.\")"
   ]
  },
  {
   "cell_type": "code",
   "execution_count": 20,
   "metadata": {
    "id": "iTQVLcarrcG3"
   },
   "outputs": [
    {
     "name": "stdout",
     "output_type": "stream",
     "text": [
      "Exercise 11 is correct.\n"
     ]
    }
   ],
   "source": [
    "# Exercise 11\n",
    "# Write a function definition named is_odd that takes in a number and returns True or False if that number is odd.\n",
    "def is_odd(number):\n",
    "    if number%2==0:\n",
    "        return False\n",
    "    else:\n",
    "        return True\n",
    "assert is_odd(positive_odd_number) == True, \"Ensure that the function is defined, named properly, and returns the correct value\"\n",
    "assert is_odd(positive_even_number) == False, \"Ensure that the function is defined, named properly, and returns the correct value\"\n",
    "assert is_odd(negative_odd_number) == True, \"Ensure that the function is defined, named properly, and returns the correct value\"\n",
    "assert is_odd(negative_even_number) == False, \"Ensure that the function is defined, named properly, and returns the correct value\"\n",
    "print(\"Exercise 11 is correct.\")"
   ]
  },
  {
   "cell_type": "code",
   "execution_count": 21,
   "metadata": {
    "id": "G6Ai1Dhrri5D"
   },
   "outputs": [
    {
     "name": "stdout",
     "output_type": "stream",
     "text": [
      "Exercise 12 is correct.\n"
     ]
    }
   ],
   "source": [
    "# Exercise 12\n",
    "# Write a function definition named is_positive_even that takes in a number and returns True or False if the value is both greater than zero and even\n",
    "def is_positive_even(number):\n",
    "    if number%2==0 and number>0:\n",
    "        return True \n",
    "    else:\n",
    "        return False\n",
    "assert is_positive_even(4) == True, \"Double check your syntax and logic\"\n",
    "assert is_positive_even(positive_odd_number) == False, \"Double check your syntax and logic\"\n",
    "assert is_positive_even(positive_even_number) == True, \"Double check your syntax and logic\"\n",
    "assert is_positive_even(negative_odd_number) == False, \"Double check your syntax and logic\"\n",
    "assert is_positive_even(negative_even_number) == False, \"Double check your syntax and logic\"\n",
    "print(\"Exercise 12 is correct.\")"
   ]
  },
  {
   "cell_type": "code",
   "execution_count": 22,
   "metadata": {
    "id": "tm5TrqFArsjH"
   },
   "outputs": [
    {
     "name": "stdout",
     "output_type": "stream",
     "text": [
      "Exercise 13 is correct.\n"
     ]
    }
   ],
   "source": [
    "# Exercise 13\n",
    "# Write a function definition named double that takes in a number and returns double the provided number.\n",
    "def double(number):\n",
    "    return number*2\n",
    "assert double(4) == 8\n",
    "assert double(5) == 10\n",
    "assert double(positive_odd_number) == positive_odd_number * 2\n",
    "assert double(positive_even_number) == positive_even_number * 2\n",
    "assert double(negative_odd_number) == negative_odd_number * 2\n",
    "assert double(negative_even_number) == negative_even_number * 2\n",
    "print(\"Exercise 13 is correct.\")"
   ]
  },
  {
   "cell_type": "code",
   "execution_count": 23,
   "metadata": {
    "id": "GSrhmkNwr6Qn"
   },
   "outputs": [
    {
     "name": "stdout",
     "output_type": "stream",
     "text": [
      "Exercise 14 is correct.\n"
     ]
    }
   ],
   "source": [
    "# Exercise 14\n",
    "# Write a function definition named sum_of_squares that takes in two numbers, squares each number, then returns the sum of both squares.\n",
    "def sum_of_squares(n1,n2):\n",
    "    a=n1*n1\n",
    "    b=n2*n2\n",
    "    sum = a+b\n",
    "    return sum\n",
    "assert sum_of_squares(3, 2) == 13\n",
    "assert sum_of_squares(5, 2) == 29\n",
    "assert sum_of_squares(2, 4) == 20\n",
    "print(\"Exercise 14 is correct.\")"
   ]
  },
  {
   "cell_type": "markdown",
   "metadata": {
    "id": "PaiPvt74srzZ"
   },
   "source": [
    "# Functions with Strings\n",
    "I recommend you go through the two google colab files I have shared if you have difficulty in this."
   ]
  },
  {
   "cell_type": "code",
   "execution_count": 31,
   "metadata": {
    "id": "4auRgTnMsbet"
   },
   "outputs": [
    {
     "name": "stdout",
     "output_type": "stream",
     "text": [
      "Exercise 15 is correct.\n"
     ]
    }
   ],
   "source": [
    "# Exercise 15\n",
    "# Write a function definition named has_vowels that takes in value and returns True if the string contains any vowels.\n",
    "def has_vowels(value):\n",
    "    vowels = {'a', 'e', 'i', 'o', 'u', 'A', 'E', 'I', 'O', 'U'}\n",
    "    for char in value:\n",
    "        if char in vowels:\n",
    "            return True\n",
    "    return False\n",
    "        \n",
    "\n",
    "assert has_vowels(\"banana\") == True\n",
    "assert has_vowels(\"ubuntu\") == True\n",
    "assert has_vowels(\"QQQQ\") == False\n",
    "assert has_vowels(\"wyrd\") == False\n",
    "print(\"Exercise 15 is correct.\")"
   ]
  },
  {
   "cell_type": "code",
   "execution_count": 32,
   "metadata": {
    "id": "QN-lkLYftB0q"
   },
   "outputs": [
    {
     "name": "stdout",
     "output_type": "stream",
     "text": [
      "Exercise 16 is correct.\n"
     ]
    }
   ],
   "source": [
    "# Exercise 16\n",
    "# Write a function definition named count_vowels that takes in value and returns the count of the nubmer of vowels in a sequence.\n",
    "def count_vowels(value):\n",
    "    vowels = {'a', 'e', 'i', 'o', 'u', 'A', 'E', 'I', 'O', 'U'}\n",
    "    count = 0\n",
    "    for char in value:\n",
    "        if char in vowels:\n",
    "            count +=1\n",
    "    return count   \n",
    "\n",
    "assert count_vowels(\"banana\") == 3\n",
    "assert count_vowels(\"ubuntu\") == 3\n",
    "assert count_vowels(\"mango\") == 2\n",
    "assert count_vowels(\"QQQQ\") == 0\n",
    "assert count_vowels(\"wyrd\") == 0\n",
    "print(\"Exercise 16 is correct.\")"
   ]
  },
  {
   "cell_type": "code",
   "execution_count": 33,
   "metadata": {
    "id": "3Uswu498tGDe"
   },
   "outputs": [
    {
     "name": "stdout",
     "output_type": "stream",
     "text": [
      "Exercise 17 is correct.\n"
     ]
    }
   ],
   "source": [
    "# Exercise 17\n",
    "# Write a function definition named remove_vowels that takes in string and returns the string without any vowels\n",
    "def remove_vowels(string):\n",
    "     vowels = {'a', 'e', 'i', 'o', 'u', 'A', 'E', 'I', 'O', 'U'}\n",
    "     return ''.join(char for char in string if char not in vowels)\n",
    "\n",
    "assert remove_vowels(\"banana\") == \"bnn\"\n",
    "assert remove_vowels(\"ubuntu\") == \"bnt\"\n",
    "assert remove_vowels(\"mango\") == \"mng\"\n",
    "assert remove_vowels(\"QQQQ\") == \"QQQQ\"\n",
    "print(\"Exercise 17 is correct.\")"
   ]
  },
  {
   "cell_type": "code",
   "execution_count": 34,
   "metadata": {
    "id": "WabXu0XxtLCR"
   },
   "outputs": [
    {
     "name": "stdout",
     "output_type": "stream",
     "text": [
      "Exercise 18 is correct.\n"
     ]
    }
   ],
   "source": [
    "# Exercise 18\n",
    "# Write a function definition named starts_and_ends_with_vowel that takes in string and returns True if the string starts and ends with a vowel\n",
    "def starts_and_ends_with_vowel(string):\n",
    "    vowels = {'a', 'e', 'i', 'o', 'u', 'A', 'E', 'I', 'O', 'U'}\n",
    "    if not string:\n",
    "        return False\n",
    "    return string[0] in vowels and string[-1] in vowels\n",
    "     \n",
    " \n",
    "    \n",
    "assert starts_and_ends_with_vowel(\"ubuntu\") == True\n",
    "assert starts_and_ends_with_vowel(\"banana\") == False\n",
    "assert starts_and_ends_with_vowel(\"mango\") == False\n",
    "print(\"Exercise 18 is correct.\")"
   ]
  },
  {
   "cell_type": "markdown",
   "metadata": {
    "id": "xCqaLNfCtcgG"
   },
   "source": [
    "# Accessing List Elements\n"
   ]
  },
  {
   "cell_type": "code",
   "execution_count": 35,
   "metadata": {
    "id": "SA7pw41btcI-"
   },
   "outputs": [
    {
     "name": "stdout",
     "output_type": "stream",
     "text": [
      "Exercise 19 is correct.\n"
     ]
    }
   ],
   "source": [
    "# Exercise 19\n",
    "# Write a function definition named first that takes in sequence and returns the first value of that sequence.\n",
    "def first(sequence):\n",
    "    if sequence:\n",
    "        return sequence[0]\n",
    "    else:\n",
    "        return ValueError(\"The input sequence is empty\")\n",
    "assert first(\"ubuntu\") == \"u\"\n",
    "assert first([1, 2, 3]) == 1\n",
    "assert first([\"python\", \"is\", \"awesome\"]) == \"python\"\n",
    "print(\"Exercise 19 is correct.\")"
   ]
  },
  {
   "cell_type": "code",
   "execution_count": 36,
   "metadata": {
    "id": "2LUxN5jitowc"
   },
   "outputs": [
    {
     "name": "stdout",
     "output_type": "stream",
     "text": [
      "Exercise 20 is correct.\n"
     ]
    }
   ],
   "source": [
    "# Exercise 20\n",
    "# Write a function definition named last that takes in sequence and returns the last value of that sequence.\n",
    "def last(sequence):\n",
    "    if sequence:\n",
    "        return sequence[-1]\n",
    "    else:\n",
    "        return ValueError(\"The input sequence is empty\")\n",
    "assert last(\"ubuntu\") == \"u\"\n",
    "assert last([1, 2, 3, 4]) == 4\n",
    "assert last([\"python\", \"is\", \"awesome\"]) == \"awesome\"\n",
    "assert last([\"kiwi\", \"mango\", \"guava\"]) == \"guava\"\n",
    "print(\"Exercise 20 is correct.\")"
   ]
  },
  {
   "cell_type": "code",
   "execution_count": 37,
   "metadata": {
    "id": "gdY9_AJCttvJ"
   },
   "outputs": [
    {
     "name": "stdout",
     "output_type": "stream",
     "text": [
      "Exercise 21 is correct.\n"
     ]
    }
   ],
   "source": [
    "# Exercise 21\n",
    "# Write a function definition named first_and_second that takes in sequence and returns the first and second value of that sequence as a list\n",
    "def first_and_second(sequence):\n",
    "    if sequence:\n",
    "        return [sequence[0],sequence[1]]\n",
    "assert first_and_second([1, 2, 3, 4]) == [1, 2]\n",
    "assert first_and_second([\"python\", \"is\", \"awesome\"]) == [\"python\", \"is\"]\n",
    "assert first_and_second([\"strawberry\", \"kiwi\", \"mango\", \"guava\"]) == [\"strawberry\", \"kiwi\"]\n",
    "print(\"Exercise 21 is correct.\")"
   ]
  },
  {
   "cell_type": "code",
   "execution_count": 40,
   "metadata": {
    "id": "cDPGhuedt0OF"
   },
   "outputs": [
    {
     "name": "stdout",
     "output_type": "stream",
     "text": [
      "Exercise 22 is correct.\n"
     ]
    }
   ],
   "source": [
    "# Exercise 22\n",
    "# Write a function definition named first_to_last that takes in sequence and returns the sequence with the first value moved to the end of the sequence.\n",
    "def first_to_last(sequence):\n",
    "    if not sequence:\n",
    "        raise ValueError(\"The input sequence is empty\")\n",
    "    \n",
    "    return sequence[1:] + sequence[:1]\n",
    "assert first_to_last([1, 2, 3, 4]) == [2, 3, 4, 1]\n",
    "assert first_to_last([\"python\", \"is\", \"awesome\"]) == [\"is\", \"awesome\", \"python\"]\n",
    "assert first_to_last([\"strawberry\", \"kiwi\", \"mango\", \"guava\"]) == [\"kiwi\", \"mango\", \"guava\", \"strawberry\"]\n",
    "print(\"Exercise 22 is correct.\")"
   ]
  },
  {
   "cell_type": "markdown",
   "metadata": {
    "id": "8LRyayWlt6ZN"
   },
   "source": [
    "# Functions to Describe Data\n"
   ]
  },
  {
   "cell_type": "code",
   "execution_count": 41,
   "metadata": {
    "id": "m2sAHpw-t58l"
   },
   "outputs": [
    {
     "name": "stdout",
     "output_type": "stream",
     "text": [
      "Exercise 23 is correct.\n"
     ]
    }
   ],
   "source": [
    "# Exercise 23\n",
    "# Write a function definition named sum_all that takes in sequence of numbers and returns all the numbers added together.\n",
    "def sum_all(numbers):\n",
    "    return sum(numbers)\n",
    "assert sum_all([1, 2, 3, 4]) == 10\n",
    "assert sum_all([3, 3, 3]) == 9\n",
    "assert sum_all([0, 5, 6]) == 11\n",
    "print(\"Exercise 23 is correct.\")"
   ]
  },
  {
   "cell_type": "code",
   "execution_count": 43,
   "metadata": {
    "id": "Mt2EeKsfuEIW"
   },
   "outputs": [
    {
     "name": "stdout",
     "output_type": "stream",
     "text": [
      "Exercise 24 is correct.\n"
     ]
    }
   ],
   "source": [
    "# Exercise 24\n",
    "# Write a function definition named mean that takes in sequence of numbers and returns the average value\n",
    "def mean(numbers):\n",
    "    if not numbers:\n",
    "        raise ValueError(\"The sequence is empty, cannot compute the mean\")\n",
    "    total = sum(numbers)\n",
    "    count = len(numbers)\n",
    "    return total/count\n",
    "assert mean([1, 2, 3, 4, 5]) == 3.0\n",
    "assert mean([1, 2, 3]) == 2.0\n",
    "assert mean([1, 5, 6]) == 4.0\n",
    "assert mean([1, 2, 5, 6]) == 3.5\n",
    "print(\"Exercise 24 is correct.\")"
   ]
  },
  {
   "cell_type": "code",
   "execution_count": 46,
   "metadata": {
    "id": "HgLdQbNTuMqz"
   },
   "outputs": [
    {
     "name": "stdout",
     "output_type": "stream",
     "text": [
      "Exercise 24 is correct.\n"
     ]
    }
   ],
   "source": [
    "# Exercise 24\n",
    "# Write a function definition named mode that takes in sequence of numbers and returns the most commonly occuring value\n",
    "def mode(List):\n",
    "    counter = 0\n",
    "    num = List[0]\n",
    "     \n",
    "    for i in List:\n",
    "        curr_frequency = List.count(i)\n",
    "        if(curr_frequency> counter):\n",
    "            counter = curr_frequency\n",
    "            num = i\n",
    " \n",
    "    return num\n",
    " \n",
    "assert mode([1, 2, 2, 3, 4]) == 2\n",
    "assert mode([1, 1, 2, 3]) == 1\n",
    "assert mode([2, 2, 3, 3, 3]) == 3\n",
    "print(\"Exercise 24 is correct.\")"
   ]
  },
  {
   "cell_type": "markdown",
   "metadata": {
    "id": "F_MVcTfIuSiy"
   },
   "source": [
    "# Applying Functions to Lists\n"
   ]
  },
  {
   "cell_type": "code",
   "execution_count": 47,
   "metadata": {
    "id": "KAyrqevouXow"
   },
   "outputs": [
    {
     "name": "stdout",
     "output_type": "stream",
     "text": [
      "Exercise 25 is correct.\n"
     ]
    }
   ],
   "source": [
    "# Exercise 25\n",
    "# Write a function definition named get_highest_number that takes in sequence of numbers and returns the largest number.\n",
    "def get_highest_number(numbers):\n",
    "    return max(numbers)\n",
    "assert get_highest_number([1, 2, 3]) == 3\n",
    "assert get_highest_number([-5, -4, -3, -2, -1, 1, 2, 3, 4, 5]) == 5\n",
    "assert get_highest_number([-5, -3, 1]) == 1\n",
    "print(\"Exercise 25 is correct.\")"
   ]
  },
  {
   "cell_type": "code",
   "execution_count": 48,
   "metadata": {
    "id": "517qI-KmucIa"
   },
   "outputs": [
    {
     "name": "stdout",
     "output_type": "stream",
     "text": [
      "Exercise 26 is correct.\n"
     ]
    }
   ],
   "source": [
    "# Exercise 26\n",
    "# Write a function definition named only_odd_numbers that takes in sequence of numbers and returns the odd numbers in a list.\n",
    "def only_odd_numbers(numbers):\n",
    "    return [num for num in numbers if num%2!=0]\n",
    "assert only_odd_numbers([1, 2, 3]) == [1, 3]\n",
    "assert only_odd_numbers([-5, -4, -3, -2, -1, 1, 2, 3, 4, 5]) == [-5, -3, -1, 1, 3, 5]\n",
    "assert only_odd_numbers([-4, -3, 1]) == [-3, 1]\n",
    "assert only_odd_numbers([2, 2, 2, 2, 2]) == []\n",
    "print(\"Exercise 26 is correct.\")"
   ]
  },
  {
   "cell_type": "code",
   "execution_count": 49,
   "metadata": {
    "id": "uCpfD1NnugoD"
   },
   "outputs": [
    {
     "name": "stdout",
     "output_type": "stream",
     "text": [
      "Exercise 27 is correct.\n"
     ]
    }
   ],
   "source": [
    "# Exercise 27\n",
    "# Write a function definition named count_evens that takes in sequence of numbers and returns the number of even numbers\n",
    "def count_evens(numbers):\n",
    "    return sum(1 for num in numbers if num%2==0)\n",
    "assert count_evens([1, 2, 3]) == 1\n",
    "assert count_evens([2, 5, 6]) == 2\n",
    "assert count_evens([3, 3, 3]) == 0\n",
    "assert count_evens([5, 6, 7, 8] ) == 2\n",
    "print(\"Exercise 27 is correct.\")"
   ]
  },
  {
   "cell_type": "code",
   "execution_count": 50,
   "metadata": {
    "id": "RxqDOb7Wum-C"
   },
   "outputs": [
    {
     "name": "stdout",
     "output_type": "stream",
     "text": [
      "Exercise 28 is correct.\n"
     ]
    }
   ],
   "source": [
    "# Exercise 28\n",
    "# Write a function definition named shortest_string that takes in a list of strings and returns the shortest string in the list.\n",
    "def shortest_string(strings):\n",
    "    return min (strings,key=len)\n",
    "assert shortest_string([\"kiwi\", \"mango\", \"strawberry\"]) == \"kiwi\"\n",
    "assert shortest_string([\"hello\", \"everybody\"]) == \"hello\"\n",
    "assert shortest_string([\"mary\", \"had\", \"a\", \"little\", \"lamb\"]) == \"a\"\n",
    "print(\"Exercise 28 is correct.\")"
   ]
  },
  {
   "cell_type": "markdown",
   "metadata": {
    "id": "D9arvRTSu482"
   },
   "source": [
    "# Working with Sets\n",
    "Take a look at the `set` function in Python, the `set` data type, and built-in `set` methods."
   ]
  },
  {
   "cell_type": "code",
   "execution_count": null,
   "metadata": {
    "colab": {
     "base_uri": "https://localhost:8080/"
    },
    "id": "4XjNxjkFu4b-",
    "outputId": "2126f541-9567-4d09-cb35-c3e3139d2922"
   },
   "outputs": [
    {
     "name": "stdout",
     "output_type": "stream",
     "text": [
      "{'w', 'k', 'i'}\n",
      "{1, 2, 3, 4}\n"
     ]
    }
   ],
   "source": [
    "# Example set function usage\n",
    "print(set(\"kiwi\"))\n",
    "print(set([1, 2, 2, 3, 3, 3, 4, 4, 4, 4]))"
   ]
  },
  {
   "cell_type": "code",
   "execution_count": 51,
   "metadata": {
    "id": "D3N-ZOg6vTpM"
   },
   "outputs": [
    {
     "name": "stdout",
     "output_type": "stream",
     "text": [
      "Exercise 29 is correct.\n"
     ]
    }
   ],
   "source": [
    "# Exercise 29\n",
    "# Write a function definition named get_unique_values that takes in a list and returns a set with only the unique values from that list.\n",
    "def get_unique_values(list):\n",
    "    return set(list)\n",
    "assert get_unique_values([\"ant\", \"ant\", \"mosquito\", \"mosquito\", \"ladybug\"]) == {\"ant\", \"mosquito\", \"ladybug\"}\n",
    "assert get_unique_values([\"b\", \"a\", \"n\", \"a\", \"n\", \"a\", \"s\"]) == {\"b\", \"a\", \"n\", \"s\"}\n",
    "assert get_unique_values([\"mary\", \"had\", \"a\", \"little\", \"lamb\", \"little\", \"lamb\", \"little\", \"lamb\"]) == {\"mary\", \"had\", \"a\", \"little\", \"lamb\"}\n",
    "print(\"Exercise 29 is correct.\")"
   ]
  },
  {
   "cell_type": "code",
   "execution_count": 52,
   "metadata": {
    "id": "myQNUXapvXee"
   },
   "outputs": [
    {
     "name": "stdout",
     "output_type": "stream",
     "text": [
      "Exercise 30 is correct.\n"
     ]
    }
   ],
   "source": [
    "# Exercise 30\n",
    "# Write a function definition named get_values_in_common that takes two lists and returns a single set with the values that each list has in common\n",
    "def get_values_in_common(list1, list2):\n",
    "    return set(list1) & set(list2)\n",
    "assert get_values_in_common([5, 1, 2, 3], [3, 4, 5, 5]) == {3, 5}\n",
    "assert get_values_in_common([1, 2], [2, 2, 3]) == {2}\n",
    "assert get_values_in_common([\"tomato\", \"mango\", \"kiwi\"], [\"eggplant\", \"tomato\", \"broccoli\"]) == {\"tomato\"}\n",
    "print(\"Exercise 30 is correct.\")"
   ]
  },
  {
   "cell_type": "code",
   "execution_count": null,
   "metadata": {
    "id": "pzrDil06vdDj"
   },
   "outputs": [],
   "source": []
  }
 ],
 "metadata": {
  "colab": {
   "provenance": []
  },
  "kernelspec": {
   "display_name": "Python 3 (ipykernel)",
   "language": "python",
   "name": "python3"
  },
  "language_info": {
   "codemirror_mode": {
    "name": "ipython",
    "version": 3
   },
   "file_extension": ".py",
   "mimetype": "text/x-python",
   "name": "python",
   "nbconvert_exporter": "python",
   "pygments_lexer": "ipython3",
   "version": "3.12.3"
  }
 },
 "nbformat": 4,
 "nbformat_minor": 4
}

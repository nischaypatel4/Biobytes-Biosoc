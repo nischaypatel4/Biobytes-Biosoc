{
  "nbformat": 4,
  "nbformat_minor": 0,
  "metadata": {
    "colab": {
      "provenance": []
    },
    "kernelspec": {
      "name": "python3",
      "display_name": "Python 3"
    },
    "language_info": {
      "name": "python"
    }
  },
  "cells": [
    {
      "cell_type": "markdown",
      "source": [
        "Run the next code cell without changes to load the training and validation sets in `X_train`, `X_valid`, `y_train`, and `y_valid`.  The test set is loaded in `X_test`.\n",
        "\n",
        "Make sure to copy the file path of X_full which is train.csv and X_test_full which is test.csv before running the cell\n",
        "Upload the dataset in your notebook before starting to run all the cells.\n"
      ],
      "metadata": {
        "id": "1QmpKUgW2xdl"
      }
    },
    {
      "cell_type": "code",
      "execution_count": 2,
      "metadata": {
        "id": "OvGj9UcuWUZ1"
      },
      "outputs": [],
      "source": [
        "import pandas as pd\n",
        "from sklearn.model_selection import train_test_split\n",
        "\n",
        "# Read the data\n",
        "X_full = pd.read_csv('train.csv', index_col='Id')\n",
        "X_test_full = pd.read_csv('test (1).csv', index_col='Id')\n",
        "\n",
        "# Remove rows with missing target, separate target from predictors\n",
        "X_full_target = X_full.dropna(axis=0, subset=['SalePrice'])\n",
        "y = X_full_target.SalePrice\n",
        "X_full_feature = X_full.drop(['SalePrice'], axis=1)\n",
        "\n",
        "# To keep things simple, we'll use only numerical predictors\n",
        "X = X_full_feature.select_dtypes(exclude=['object'])\n",
        "X_test = X_test_full.select_dtypes(exclude=['object'])\n",
        "\n",
        "# Break off validation set from training data\n",
        "X_train, X_valid, y_train, y_valid = train_test_split(X, y, train_size=0.8, test_size=0.2,\n",
        "                                                      random_state=1)"
      ]
    },
    {
      "cell_type": "markdown",
      "source": [
        "Use the next code cell to print the first five rows of the data.\n"
      ],
      "metadata": {
        "id": "ZbcapCQtu1HQ"
      }
    },
    {
      "cell_type": "code",
      "source": [
        "X_train.head()"
      ],
      "metadata": {
        "colab": {
          "base_uri": "https://localhost:8080/",
          "height": 287
        },
        "id": "nhF66U1Mu6fB",
        "outputId": "fac3c3d2-2352-4a32-b1f0-945c324fef97"
      },
      "execution_count": 3,
      "outputs": [
        {
          "output_type": "execute_result",
          "data": {
            "text/plain": [
              "      MSSubClass  LotFrontage  LotArea  OverallQual  OverallCond  YearBuilt  \\\n",
              "Id                                                                            \n",
              "922           90         67.0     8777            5            7       1900   \n",
              "521          190         60.0    10800            4            7       1900   \n",
              "402           20         65.0     8767            7            5       2005   \n",
              "281           60         82.0    11287            7            6       1989   \n",
              "1402          60         62.0     7415            6            5       2004   \n",
              "\n",
              "      YearRemodAdd  MasVnrArea  BsmtFinSF1  BsmtFinSF2  ...  GarageArea  \\\n",
              "Id                                                      ...               \n",
              "922           2003         0.0        1084           0  ...           0   \n",
              "521           2000         0.0           0           0  ...           0   \n",
              "402           2005         0.0          24           0  ...         400   \n",
              "281           1989       340.0         421           0  ...         575   \n",
              "1402          2004         0.0         759           0  ...         398   \n",
              "\n",
              "      WoodDeckSF  OpenPorchSF  EnclosedPorch  3SsnPorch  ScreenPorch  \\\n",
              "Id                                                                     \n",
              "922            0           70              0          0            0   \n",
              "521          220          114            210          0            0   \n",
              "402            0            0              0          0            0   \n",
              "281            0           84              0        196            0   \n",
              "1402         100           75              0          0            0   \n",
              "\n",
              "      PoolArea  MiscVal  MoSold  YrSold  \n",
              "Id                                       \n",
              "922          0        0       9    2008  \n",
              "521          0        0       8    2008  \n",
              "402          0        0       7    2006  \n",
              "281          0        0       1    2007  \n",
              "1402         0        0       4    2008  \n",
              "\n",
              "[5 rows x 36 columns]"
            ],
            "text/html": [
              "\n",
              "  <div id=\"df-af51bf2b-9b4c-4bdf-83c8-bb23c03cd71c\" class=\"colab-df-container\">\n",
              "    <div>\n",
              "<style scoped>\n",
              "    .dataframe tbody tr th:only-of-type {\n",
              "        vertical-align: middle;\n",
              "    }\n",
              "\n",
              "    .dataframe tbody tr th {\n",
              "        vertical-align: top;\n",
              "    }\n",
              "\n",
              "    .dataframe thead th {\n",
              "        text-align: right;\n",
              "    }\n",
              "</style>\n",
              "<table border=\"1\" class=\"dataframe\">\n",
              "  <thead>\n",
              "    <tr style=\"text-align: right;\">\n",
              "      <th></th>\n",
              "      <th>MSSubClass</th>\n",
              "      <th>LotFrontage</th>\n",
              "      <th>LotArea</th>\n",
              "      <th>OverallQual</th>\n",
              "      <th>OverallCond</th>\n",
              "      <th>YearBuilt</th>\n",
              "      <th>YearRemodAdd</th>\n",
              "      <th>MasVnrArea</th>\n",
              "      <th>BsmtFinSF1</th>\n",
              "      <th>BsmtFinSF2</th>\n",
              "      <th>...</th>\n",
              "      <th>GarageArea</th>\n",
              "      <th>WoodDeckSF</th>\n",
              "      <th>OpenPorchSF</th>\n",
              "      <th>EnclosedPorch</th>\n",
              "      <th>3SsnPorch</th>\n",
              "      <th>ScreenPorch</th>\n",
              "      <th>PoolArea</th>\n",
              "      <th>MiscVal</th>\n",
              "      <th>MoSold</th>\n",
              "      <th>YrSold</th>\n",
              "    </tr>\n",
              "    <tr>\n",
              "      <th>Id</th>\n",
              "      <th></th>\n",
              "      <th></th>\n",
              "      <th></th>\n",
              "      <th></th>\n",
              "      <th></th>\n",
              "      <th></th>\n",
              "      <th></th>\n",
              "      <th></th>\n",
              "      <th></th>\n",
              "      <th></th>\n",
              "      <th></th>\n",
              "      <th></th>\n",
              "      <th></th>\n",
              "      <th></th>\n",
              "      <th></th>\n",
              "      <th></th>\n",
              "      <th></th>\n",
              "      <th></th>\n",
              "      <th></th>\n",
              "      <th></th>\n",
              "      <th></th>\n",
              "    </tr>\n",
              "  </thead>\n",
              "  <tbody>\n",
              "    <tr>\n",
              "      <th>922</th>\n",
              "      <td>90</td>\n",
              "      <td>67.0</td>\n",
              "      <td>8777</td>\n",
              "      <td>5</td>\n",
              "      <td>7</td>\n",
              "      <td>1900</td>\n",
              "      <td>2003</td>\n",
              "      <td>0.0</td>\n",
              "      <td>1084</td>\n",
              "      <td>0</td>\n",
              "      <td>...</td>\n",
              "      <td>0</td>\n",
              "      <td>0</td>\n",
              "      <td>70</td>\n",
              "      <td>0</td>\n",
              "      <td>0</td>\n",
              "      <td>0</td>\n",
              "      <td>0</td>\n",
              "      <td>0</td>\n",
              "      <td>9</td>\n",
              "      <td>2008</td>\n",
              "    </tr>\n",
              "    <tr>\n",
              "      <th>521</th>\n",
              "      <td>190</td>\n",
              "      <td>60.0</td>\n",
              "      <td>10800</td>\n",
              "      <td>4</td>\n",
              "      <td>7</td>\n",
              "      <td>1900</td>\n",
              "      <td>2000</td>\n",
              "      <td>0.0</td>\n",
              "      <td>0</td>\n",
              "      <td>0</td>\n",
              "      <td>...</td>\n",
              "      <td>0</td>\n",
              "      <td>220</td>\n",
              "      <td>114</td>\n",
              "      <td>210</td>\n",
              "      <td>0</td>\n",
              "      <td>0</td>\n",
              "      <td>0</td>\n",
              "      <td>0</td>\n",
              "      <td>8</td>\n",
              "      <td>2008</td>\n",
              "    </tr>\n",
              "    <tr>\n",
              "      <th>402</th>\n",
              "      <td>20</td>\n",
              "      <td>65.0</td>\n",
              "      <td>8767</td>\n",
              "      <td>7</td>\n",
              "      <td>5</td>\n",
              "      <td>2005</td>\n",
              "      <td>2005</td>\n",
              "      <td>0.0</td>\n",
              "      <td>24</td>\n",
              "      <td>0</td>\n",
              "      <td>...</td>\n",
              "      <td>400</td>\n",
              "      <td>0</td>\n",
              "      <td>0</td>\n",
              "      <td>0</td>\n",
              "      <td>0</td>\n",
              "      <td>0</td>\n",
              "      <td>0</td>\n",
              "      <td>0</td>\n",
              "      <td>7</td>\n",
              "      <td>2006</td>\n",
              "    </tr>\n",
              "    <tr>\n",
              "      <th>281</th>\n",
              "      <td>60</td>\n",
              "      <td>82.0</td>\n",
              "      <td>11287</td>\n",
              "      <td>7</td>\n",
              "      <td>6</td>\n",
              "      <td>1989</td>\n",
              "      <td>1989</td>\n",
              "      <td>340.0</td>\n",
              "      <td>421</td>\n",
              "      <td>0</td>\n",
              "      <td>...</td>\n",
              "      <td>575</td>\n",
              "      <td>0</td>\n",
              "      <td>84</td>\n",
              "      <td>0</td>\n",
              "      <td>196</td>\n",
              "      <td>0</td>\n",
              "      <td>0</td>\n",
              "      <td>0</td>\n",
              "      <td>1</td>\n",
              "      <td>2007</td>\n",
              "    </tr>\n",
              "    <tr>\n",
              "      <th>1402</th>\n",
              "      <td>60</td>\n",
              "      <td>62.0</td>\n",
              "      <td>7415</td>\n",
              "      <td>6</td>\n",
              "      <td>5</td>\n",
              "      <td>2004</td>\n",
              "      <td>2004</td>\n",
              "      <td>0.0</td>\n",
              "      <td>759</td>\n",
              "      <td>0</td>\n",
              "      <td>...</td>\n",
              "      <td>398</td>\n",
              "      <td>100</td>\n",
              "      <td>75</td>\n",
              "      <td>0</td>\n",
              "      <td>0</td>\n",
              "      <td>0</td>\n",
              "      <td>0</td>\n",
              "      <td>0</td>\n",
              "      <td>4</td>\n",
              "      <td>2008</td>\n",
              "    </tr>\n",
              "  </tbody>\n",
              "</table>\n",
              "<p>5 rows × 36 columns</p>\n",
              "</div>\n",
              "    <div class=\"colab-df-buttons\">\n",
              "\n",
              "  <div class=\"colab-df-container\">\n",
              "    <button class=\"colab-df-convert\" onclick=\"convertToInteractive('df-af51bf2b-9b4c-4bdf-83c8-bb23c03cd71c')\"\n",
              "            title=\"Convert this dataframe to an interactive table.\"\n",
              "            style=\"display:none;\">\n",
              "\n",
              "  <svg xmlns=\"http://www.w3.org/2000/svg\" height=\"24px\" viewBox=\"0 -960 960 960\">\n",
              "    <path d=\"M120-120v-720h720v720H120Zm60-500h600v-160H180v160Zm220 220h160v-160H400v160Zm0 220h160v-160H400v160ZM180-400h160v-160H180v160Zm440 0h160v-160H620v160ZM180-180h160v-160H180v160Zm440 0h160v-160H620v160Z\"/>\n",
              "  </svg>\n",
              "    </button>\n",
              "\n",
              "  <style>\n",
              "    .colab-df-container {\n",
              "      display:flex;\n",
              "      gap: 12px;\n",
              "    }\n",
              "\n",
              "    .colab-df-convert {\n",
              "      background-color: #E8F0FE;\n",
              "      border: none;\n",
              "      border-radius: 50%;\n",
              "      cursor: pointer;\n",
              "      display: none;\n",
              "      fill: #1967D2;\n",
              "      height: 32px;\n",
              "      padding: 0 0 0 0;\n",
              "      width: 32px;\n",
              "    }\n",
              "\n",
              "    .colab-df-convert:hover {\n",
              "      background-color: #E2EBFA;\n",
              "      box-shadow: 0px 1px 2px rgba(60, 64, 67, 0.3), 0px 1px 3px 1px rgba(60, 64, 67, 0.15);\n",
              "      fill: #174EA6;\n",
              "    }\n",
              "\n",
              "    .colab-df-buttons div {\n",
              "      margin-bottom: 4px;\n",
              "    }\n",
              "\n",
              "    [theme=dark] .colab-df-convert {\n",
              "      background-color: #3B4455;\n",
              "      fill: #D2E3FC;\n",
              "    }\n",
              "\n",
              "    [theme=dark] .colab-df-convert:hover {\n",
              "      background-color: #434B5C;\n",
              "      box-shadow: 0px 1px 3px 1px rgba(0, 0, 0, 0.15);\n",
              "      filter: drop-shadow(0px 1px 2px rgba(0, 0, 0, 0.3));\n",
              "      fill: #FFFFFF;\n",
              "    }\n",
              "  </style>\n",
              "\n",
              "    <script>\n",
              "      const buttonEl =\n",
              "        document.querySelector('#df-af51bf2b-9b4c-4bdf-83c8-bb23c03cd71c button.colab-df-convert');\n",
              "      buttonEl.style.display =\n",
              "        google.colab.kernel.accessAllowed ? 'block' : 'none';\n",
              "\n",
              "      async function convertToInteractive(key) {\n",
              "        const element = document.querySelector('#df-af51bf2b-9b4c-4bdf-83c8-bb23c03cd71c');\n",
              "        const dataTable =\n",
              "          await google.colab.kernel.invokeFunction('convertToInteractive',\n",
              "                                                    [key], {});\n",
              "        if (!dataTable) return;\n",
              "\n",
              "        const docLinkHtml = 'Like what you see? Visit the ' +\n",
              "          '<a target=\"_blank\" href=https://colab.research.google.com/notebooks/data_table.ipynb>data table notebook</a>'\n",
              "          + ' to learn more about interactive tables.';\n",
              "        element.innerHTML = '';\n",
              "        dataTable['output_type'] = 'display_data';\n",
              "        await google.colab.output.renderOutput(dataTable, element);\n",
              "        const docLink = document.createElement('div');\n",
              "        docLink.innerHTML = docLinkHtml;\n",
              "        element.appendChild(docLink);\n",
              "      }\n",
              "    </script>\n",
              "  </div>\n",
              "\n",
              "\n",
              "<div id=\"df-89178428-03c4-42c4-ad11-1a8493a28b9c\">\n",
              "  <button class=\"colab-df-quickchart\" onclick=\"quickchart('df-89178428-03c4-42c4-ad11-1a8493a28b9c')\"\n",
              "            title=\"Suggest charts\"\n",
              "            style=\"display:none;\">\n",
              "\n",
              "<svg xmlns=\"http://www.w3.org/2000/svg\" height=\"24px\"viewBox=\"0 0 24 24\"\n",
              "     width=\"24px\">\n",
              "    <g>\n",
              "        <path d=\"M19 3H5c-1.1 0-2 .9-2 2v14c0 1.1.9 2 2 2h14c1.1 0 2-.9 2-2V5c0-1.1-.9-2-2-2zM9 17H7v-7h2v7zm4 0h-2V7h2v10zm4 0h-2v-4h2v4z\"/>\n",
              "    </g>\n",
              "</svg>\n",
              "  </button>\n",
              "\n",
              "<style>\n",
              "  .colab-df-quickchart {\n",
              "      --bg-color: #E8F0FE;\n",
              "      --fill-color: #1967D2;\n",
              "      --hover-bg-color: #E2EBFA;\n",
              "      --hover-fill-color: #174EA6;\n",
              "      --disabled-fill-color: #AAA;\n",
              "      --disabled-bg-color: #DDD;\n",
              "  }\n",
              "\n",
              "  [theme=dark] .colab-df-quickchart {\n",
              "      --bg-color: #3B4455;\n",
              "      --fill-color: #D2E3FC;\n",
              "      --hover-bg-color: #434B5C;\n",
              "      --hover-fill-color: #FFFFFF;\n",
              "      --disabled-bg-color: #3B4455;\n",
              "      --disabled-fill-color: #666;\n",
              "  }\n",
              "\n",
              "  .colab-df-quickchart {\n",
              "    background-color: var(--bg-color);\n",
              "    border: none;\n",
              "    border-radius: 50%;\n",
              "    cursor: pointer;\n",
              "    display: none;\n",
              "    fill: var(--fill-color);\n",
              "    height: 32px;\n",
              "    padding: 0;\n",
              "    width: 32px;\n",
              "  }\n",
              "\n",
              "  .colab-df-quickchart:hover {\n",
              "    background-color: var(--hover-bg-color);\n",
              "    box-shadow: 0 1px 2px rgba(60, 64, 67, 0.3), 0 1px 3px 1px rgba(60, 64, 67, 0.15);\n",
              "    fill: var(--button-hover-fill-color);\n",
              "  }\n",
              "\n",
              "  .colab-df-quickchart-complete:disabled,\n",
              "  .colab-df-quickchart-complete:disabled:hover {\n",
              "    background-color: var(--disabled-bg-color);\n",
              "    fill: var(--disabled-fill-color);\n",
              "    box-shadow: none;\n",
              "  }\n",
              "\n",
              "  .colab-df-spinner {\n",
              "    border: 2px solid var(--fill-color);\n",
              "    border-color: transparent;\n",
              "    border-bottom-color: var(--fill-color);\n",
              "    animation:\n",
              "      spin 1s steps(1) infinite;\n",
              "  }\n",
              "\n",
              "  @keyframes spin {\n",
              "    0% {\n",
              "      border-color: transparent;\n",
              "      border-bottom-color: var(--fill-color);\n",
              "      border-left-color: var(--fill-color);\n",
              "    }\n",
              "    20% {\n",
              "      border-color: transparent;\n",
              "      border-left-color: var(--fill-color);\n",
              "      border-top-color: var(--fill-color);\n",
              "    }\n",
              "    30% {\n",
              "      border-color: transparent;\n",
              "      border-left-color: var(--fill-color);\n",
              "      border-top-color: var(--fill-color);\n",
              "      border-right-color: var(--fill-color);\n",
              "    }\n",
              "    40% {\n",
              "      border-color: transparent;\n",
              "      border-right-color: var(--fill-color);\n",
              "      border-top-color: var(--fill-color);\n",
              "    }\n",
              "    60% {\n",
              "      border-color: transparent;\n",
              "      border-right-color: var(--fill-color);\n",
              "    }\n",
              "    80% {\n",
              "      border-color: transparent;\n",
              "      border-right-color: var(--fill-color);\n",
              "      border-bottom-color: var(--fill-color);\n",
              "    }\n",
              "    90% {\n",
              "      border-color: transparent;\n",
              "      border-bottom-color: var(--fill-color);\n",
              "    }\n",
              "  }\n",
              "</style>\n",
              "\n",
              "  <script>\n",
              "    async function quickchart(key) {\n",
              "      const quickchartButtonEl =\n",
              "        document.querySelector('#' + key + ' button');\n",
              "      quickchartButtonEl.disabled = true;  // To prevent multiple clicks.\n",
              "      quickchartButtonEl.classList.add('colab-df-spinner');\n",
              "      try {\n",
              "        const charts = await google.colab.kernel.invokeFunction(\n",
              "            'suggestCharts', [key], {});\n",
              "      } catch (error) {\n",
              "        console.error('Error during call to suggestCharts:', error);\n",
              "      }\n",
              "      quickchartButtonEl.classList.remove('colab-df-spinner');\n",
              "      quickchartButtonEl.classList.add('colab-df-quickchart-complete');\n",
              "    }\n",
              "    (() => {\n",
              "      let quickchartButtonEl =\n",
              "        document.querySelector('#df-89178428-03c4-42c4-ad11-1a8493a28b9c button');\n",
              "      quickchartButtonEl.style.display =\n",
              "        google.colab.kernel.accessAllowed ? 'block' : 'none';\n",
              "    })();\n",
              "  </script>\n",
              "</div>\n",
              "\n",
              "    </div>\n",
              "  </div>\n"
            ],
            "application/vnd.google.colaboratory.intrinsic+json": {
              "type": "dataframe",
              "variable_name": "X_train"
            }
          },
          "metadata": {},
          "execution_count": 3
        }
      ]
    },
    {
      "cell_type": "markdown",
      "source": [
        "You can already see a few missing values in the first several rows.  In the next step, you'll obtain a more comprehensive understanding of the missing values in the dataset.\n",
        "\n",
        "# Step 1: Preliminary investigation\n",
        "\n",
        "Run the code cell below without changes."
      ],
      "metadata": {
        "id": "pmaE4aFXxUDM"
      }
    },
    {
      "cell_type": "code",
      "source": [
        "# Shape of training data (num_rows, num_columns)\n",
        "print(X_train.shape)\n",
        "\n",
        "# Number of missing values in each column of training data\n",
        "missing_val_count_by_column = (X_train.isnull().sum())\n",
        "print(missing_val_count_by_column[missing_val_count_by_column > 0])"
      ],
      "metadata": {
        "id": "oyfhEl6AxTne",
        "colab": {
          "base_uri": "https://localhost:8080/"
        },
        "outputId": "791f5fa7-5783-4df3-fed8-e22309311681"
      },
      "execution_count": 4,
      "outputs": [
        {
          "output_type": "stream",
          "name": "stdout",
          "text": [
            "(1168, 36)\n",
            "LotFrontage    209\n",
            "MasVnrArea       8\n",
            "GarageYrBlt     61\n",
            "dtype: int64\n"
          ]
        }
      ]
    },
    {
      "cell_type": "markdown",
      "source": [
        "### Part A\n",
        "\n",
        "Use the above output to answer the questions below."
      ],
      "metadata": {
        "id": "vEVNyWjlxYBn"
      }
    },
    {
      "cell_type": "code",
      "source": [
        "# Fill in the line below: How many rows are in the training data?\n",
        "num_rows = 1168\n",
        "\n",
        "# Fill in the line below: How many columns in the training data=11\n",
        "# have missing values?\n",
        "num_cols_with_missing =3\n",
        "\n",
        "# Fill in the line below: How many missing entries are contained in\n",
        "# all of the training data?\n",
        "tot_missing =278"
      ],
      "metadata": {
        "id": "BMH4NFvlxWM8"
      },
      "execution_count": 5,
      "outputs": []
    },
    {
      "cell_type": "markdown",
      "source": [
        "### Part B\n",
        "Considering your answers above, what do you think is likely the best approach to dealing with the missing values?"
      ],
      "metadata": {
        "id": "PGmTtY51yGC8"
      }
    },
    {
      "cell_type": "markdown",
      "source": [
        "Since there are relatively few missing entries in the data (the column with the greatest percentage of missing values is missing less than 20% of its entries), we can expect that dropping columns is unlikely to yield good results. This is because we'd be throwing away a lot of valuable data, and so imputation will likely perform better."
      ],
      "metadata": {
        "id": "F3J2kB5Fx8vI"
      }
    },
    {
      "cell_type": "markdown",
      "source": [
        "To compare different approaches to dealing with missing values, you'll use the same `score_dataset()` function from the tutorial.  This function reports the [mean absolute error](https://en.wikipedia.org/wiki/Mean_absolute_error) (MAE) from a random forest model."
      ],
      "metadata": {
        "id": "Ab2Mvv-Kx_ii"
      }
    },
    {
      "cell_type": "code",
      "source": [
        "from sklearn.ensemble import RandomForestRegressor\n",
        "from sklearn.metrics import mean_absolute_error\n",
        "\n",
        "# Function for comparing different approaches\n",
        "def score_dataset(X_train, X_valid, y_train, y_valid):\n",
        "    model = RandomForestRegressor(n_estimators=100, random_state=0)\n",
        "    model.fit(X_train, y_train)\n",
        "    preds = model.predict(X_valid)\n",
        "    return mean_absolute_error(y_valid, preds)"
      ],
      "metadata": {
        "id": "O8w1Mra9yAKo"
      },
      "execution_count": 6,
      "outputs": []
    },
    {
      "cell_type": "markdown",
      "source": [
        "# Step 2: Drop columns with missing values\n",
        "\n",
        "In this step, you'll preprocess the data in `X_train` and `X_valid` to remove columns with missing values.  Set the preprocessed DataFrames to `reduced_X_train` and `reduced_X_valid`, respectively.  "
      ],
      "metadata": {
        "id": "zSqgEi85yKiw"
      }
    },
    {
      "cell_type": "code",
      "source": [
        "# Fill in the line below: get names of columns with missing values\n",
        "columns_with_missing = [col for col in X_train.columns if X_train[col].isnull().any()]\n",
        "\n",
        "\n",
        "# Fill in the lines below: drop columns in training and validation data\n",
        "reduced_X_train =X_train.drop(columns_with_missing, axis=1)\n",
        "reduced_X_valid =X_valid.drop(columns_with_missing, axis=1)\n",
        "print(columns_with_missing)\n"
      ],
      "metadata": {
        "id": "kutf7lIVxcuw",
        "colab": {
          "base_uri": "https://localhost:8080/"
        },
        "outputId": "6e90bddc-f161-4e68-ad09-f9b92ad66007"
      },
      "execution_count": 12,
      "outputs": [
        {
          "output_type": "stream",
          "name": "stdout",
          "text": [
            "['LotFrontage', 'MasVnrArea', 'GarageYrBlt']\n"
          ]
        }
      ]
    },
    {
      "cell_type": "markdown",
      "source": [
        "Run the next code cell without changes to obtain the MAE for this approach."
      ],
      "metadata": {
        "id": "2Knt3kspyR6V"
      }
    },
    {
      "cell_type": "code",
      "source": [
        "print(\"MAE (Drop columns with missing values):\")\n",
        "print(score_dataset(reduced_X_train, reduced_X_valid, y_train, y_valid))"
      ],
      "metadata": {
        "id": "wPpQLpk8yQHf",
        "colab": {
          "base_uri": "https://localhost:8080/"
        },
        "outputId": "fbced294-e36f-4f7b-ef3a-905c53dcf4a2"
      },
      "execution_count": 13,
      "outputs": [
        {
          "output_type": "stream",
          "name": "stdout",
          "text": [
            "MAE (Drop columns with missing values):\n",
            "16367.230342465757\n"
          ]
        }
      ]
    },
    {
      "cell_type": "markdown",
      "source": [
        "# Step 3: Imputation\n",
        "\n",
        "### Part A\n",
        "\n",
        "Use the next code cell to impute missing values with the mean value along each column.  Set the preprocessed DataFrames to `imputed_X_train` and `imputed_X_valid`.  Make sure that the column names match those in `X_train` and `X_valid`."
      ],
      "metadata": {
        "id": "Bv9A2d8_yVed"
      }
    },
    {
      "cell_type": "code",
      "source": [
        "from sklearn.impute import SimpleImputer\n",
        "\n",
        "# Fill in the lines below: imputation\n",
        "my_imputer=SimpleImputer()\n",
        "\n",
        " # Your code here\n",
        "imputed_X_train = pd.DataFrame(my_imputer.fit_transform(X_train))\n",
        "imputed_X_valid = pd.DataFrame(my_imputer.transform(X_valid))\n",
        "\n",
        "# Fill in the lines below: imputation removed column names; put them back\n",
        "imputed_X_train.columns =X_train.columns\n",
        "imputed_X_valid.columns =X_valid.columns"
      ],
      "metadata": {
        "id": "QX5AStU7yUD6",
        "colab": {
          "base_uri": "https://localhost:8080/"
        },
        "outputId": "53d617b0-1c60-42ef-a0da-378e5a2214f1"
      },
      "execution_count": 18,
      "outputs": [
        {
          "output_type": "stream",
          "name": "stdout",
          "text": [
            "      MSSubClass  LotFrontage  LotArea  OverallQual  OverallCond  YearBuilt  \\\n",
            "0           90.0         67.0   8777.0          5.0          7.0     1900.0   \n",
            "1          190.0         60.0  10800.0          4.0          7.0     1900.0   \n",
            "2           20.0         65.0   8767.0          7.0          5.0     2005.0   \n",
            "3           60.0         82.0  11287.0          7.0          6.0     1989.0   \n",
            "4           60.0         62.0   7415.0          6.0          5.0     2004.0   \n",
            "...          ...          ...      ...          ...          ...        ...   \n",
            "1163        20.0         78.0  10140.0          6.0          5.0     1974.0   \n",
            "1164        20.0         80.0   9920.0          5.0          5.0     1954.0   \n",
            "1165        70.0         60.0   6882.0          6.0          7.0     1914.0   \n",
            "1166       160.0         21.0   1680.0          6.0          3.0     1971.0   \n",
            "1167        30.0        120.0  18000.0          3.0          4.0     1935.0   \n",
            "\n",
            "      YearRemodAdd  MasVnrArea  BsmtFinSF1  BsmtFinSF2  ...  GarageArea  \\\n",
            "0           2003.0         0.0      1084.0         0.0  ...         0.0   \n",
            "1           2000.0         0.0         0.0         0.0  ...         0.0   \n",
            "2           2005.0         0.0        24.0         0.0  ...       400.0   \n",
            "3           1989.0       340.0       421.0         0.0  ...       575.0   \n",
            "4           2004.0         0.0       759.0         0.0  ...       398.0   \n",
            "...            ...         ...         ...         ...  ...         ...   \n",
            "1163        1974.0       174.0         0.0         0.0  ...       478.0   \n",
            "1164        1954.0       110.0       354.0       290.0  ...       280.0   \n",
            "1165        2006.0         0.0         0.0         0.0  ...         0.0   \n",
            "1166        1971.0       604.0       358.0         0.0  ...       264.0   \n",
            "1167        1950.0         0.0         0.0         0.0  ...      1248.0   \n",
            "\n",
            "      WoodDeckSF  OpenPorchSF  EnclosedPorch  3SsnPorch  ScreenPorch  \\\n",
            "0            0.0         70.0            0.0        0.0          0.0   \n",
            "1          220.0        114.0          210.0        0.0          0.0   \n",
            "2            0.0          0.0            0.0        0.0          0.0   \n",
            "3            0.0         84.0            0.0      196.0          0.0   \n",
            "4          100.0         75.0            0.0        0.0          0.0   \n",
            "...          ...          ...            ...        ...          ...   \n",
            "1163         0.0          0.0            0.0        0.0          0.0   \n",
            "1164         0.0          0.0          164.0        0.0          0.0   \n",
            "1165       136.0          0.0          115.0        0.0          0.0   \n",
            "1166         0.0          0.0            0.0        0.0          0.0   \n",
            "1167         0.0         20.0            0.0        0.0          0.0   \n",
            "\n",
            "      PoolArea  MiscVal  MoSold  YrSold  \n",
            "0          0.0      0.0     9.0  2008.0  \n",
            "1          0.0      0.0     8.0  2008.0  \n",
            "2          0.0      0.0     7.0  2006.0  \n",
            "3          0.0      0.0     1.0  2007.0  \n",
            "4          0.0      0.0     4.0  2008.0  \n",
            "...        ...      ...     ...     ...  \n",
            "1163       0.0      0.0     8.0  2009.0  \n",
            "1164       0.0      0.0     2.0  2010.0  \n",
            "1165       0.0      0.0     3.0  2007.0  \n",
            "1166       0.0      0.0     8.0  2008.0  \n",
            "1167       0.0    560.0     8.0  2008.0  \n",
            "\n",
            "[1168 rows x 36 columns]\n"
          ]
        }
      ]
    },
    {
      "cell_type": "markdown",
      "source": [
        "Run the next code cell without changes to obtain the MAE for this approach."
      ],
      "metadata": {
        "id": "Tbp0ksDlybpQ"
      }
    },
    {
      "cell_type": "code",
      "source": [
        "print(\"MAE (Imputation):\")\n",
        "print(score_dataset(imputed_X_train, imputed_X_valid, y_train, y_valid))"
      ],
      "metadata": {
        "id": "MNuMI8B_yYa_",
        "colab": {
          "base_uri": "https://localhost:8080/"
        },
        "outputId": "e66c8684-ad6b-4846-9220-1034678690ff"
      },
      "execution_count": 19,
      "outputs": [
        {
          "output_type": "stream",
          "name": "stdout",
          "text": [
            "MAE (Imputation):\n",
            "16657.755650684932\n"
          ]
        }
      ]
    },
    {
      "cell_type": "markdown",
      "source": [
        "### Part B\n",
        "\n",
        "Compare the MAE from each approach.  Does anything surprise you about the results?  Why do you think one approach performed better than the other?\n",
        "\n",
        "#####Write your answer to the above question in a new text box"
      ],
      "metadata": {
        "id": "itmjxto-yd3e"
      }
    },
    {
      "cell_type": "markdown",
      "source": [
        "##Write your answer here : It seems that dropping columns performed better than mean imputation.The 3 variables with missing values were-lot frontage,mas-vnr area and GarageYrBlt.\n",
        "All three will have 0 if the particular feature(i.e, frontage,Masonry veneer and Garage) is absent in the property which is possible.Replacing them with mean will lead to an upward bias and may lead to increase in MAE.Replacing them with 0 may improve results."
      ],
      "metadata": {
        "id": "39pGYv8uy60q"
      }
    },
    {
      "cell_type": "markdown",
      "source": [
        "# Step 4: Generate test predictions\n",
        "\n",
        "In this final step, you'll use any approach of your choosing to deal with missing values.  Once you've preprocessed the training and validation features, you'll train and evaluate a random forest model.  Then, you'll preprocess the test data before generating predictions that can be submitted to the competition!\n",
        "\n",
        "### Part A\n",
        "\n",
        "Use the next code cell to preprocess the training and validation data.  Set the preprocessed DataFrames to `final_X_train` and `final_X_valid`.  **You can use any approach of your choosing here!**  in order for this step to be marked as correct, you need only ensure:\n",
        "- the preprocessed DataFrames have the same number of columns,\n",
        "- the preprocessed DataFrames have no missing values,\n",
        "- `final_X_train` and `y_train` have the same number of rows, and\n",
        "- `final_X_valid` and `y_valid` have the same number of rows."
      ],
      "metadata": {
        "id": "wQGnj_sQy4GE"
      }
    },
    {
      "cell_type": "code",
      "source": [
        "# Preprocessed training and validation features.(replacing the missing values with zero)\n",
        "final_X_train = X_train.fillna(0)\n",
        "final_X_valid = X_valid.fillna(0)\n"
      ],
      "metadata": {
        "id": "bQ3HMaAMy4f_",
        "colab": {
          "base_uri": "https://localhost:8080/"
        },
        "outputId": "38daef9e-45dc-41dc-9f18-5e0818c2312c"
      },
      "execution_count": 22,
      "outputs": [
        {
          "output_type": "stream",
          "name": "stdout",
          "text": [
            "      MSSubClass  LotFrontage  LotArea  OverallQual  OverallCond  YearBuilt  \\\n",
            "Id                                                                            \n",
            "922           90         67.0     8777            5            7       1900   \n",
            "521          190         60.0    10800            4            7       1900   \n",
            "402           20         65.0     8767            7            5       2005   \n",
            "281           60         82.0    11287            7            6       1989   \n",
            "1402          60         62.0     7415            6            5       2004   \n",
            "...          ...          ...      ...          ...          ...        ...   \n",
            "716           20         78.0    10140            6            5       1974   \n",
            "906           20         80.0     9920            5            5       1954   \n",
            "1097          70         60.0     6882            6            7       1914   \n",
            "236          160         21.0     1680            6            3       1971   \n",
            "1062          30        120.0    18000            3            4       1935   \n",
            "\n",
            "      YearRemodAdd  MasVnrArea  BsmtFinSF1  BsmtFinSF2  ...  GarageArea  \\\n",
            "Id                                                      ...               \n",
            "922           2003         0.0        1084           0  ...           0   \n",
            "521           2000         0.0           0           0  ...           0   \n",
            "402           2005         0.0          24           0  ...         400   \n",
            "281           1989       340.0         421           0  ...         575   \n",
            "1402          2004         0.0         759           0  ...         398   \n",
            "...            ...         ...         ...         ...  ...         ...   \n",
            "716           1974       174.0           0           0  ...         478   \n",
            "906           1954       110.0         354         290  ...         280   \n",
            "1097          2006         0.0           0           0  ...           0   \n",
            "236           1971       604.0         358           0  ...         264   \n",
            "1062          1950         0.0           0           0  ...        1248   \n",
            "\n",
            "      WoodDeckSF  OpenPorchSF  EnclosedPorch  3SsnPorch  ScreenPorch  \\\n",
            "Id                                                                     \n",
            "922            0           70              0          0            0   \n",
            "521          220          114            210          0            0   \n",
            "402            0            0              0          0            0   \n",
            "281            0           84              0        196            0   \n",
            "1402         100           75              0          0            0   \n",
            "...          ...          ...            ...        ...          ...   \n",
            "716            0            0              0          0            0   \n",
            "906            0            0            164          0            0   \n",
            "1097         136            0            115          0            0   \n",
            "236            0            0              0          0            0   \n",
            "1062           0           20              0          0            0   \n",
            "\n",
            "      PoolArea  MiscVal  MoSold  YrSold  \n",
            "Id                                       \n",
            "922          0        0       9    2008  \n",
            "521          0        0       8    2008  \n",
            "402          0        0       7    2006  \n",
            "281          0        0       1    2007  \n",
            "1402         0        0       4    2008  \n",
            "...        ...      ...     ...     ...  \n",
            "716          0        0       8    2009  \n",
            "906          0        0       2    2010  \n",
            "1097         0        0       3    2007  \n",
            "236          0        0       8    2008  \n",
            "1062         0      560       8    2008  \n",
            "\n",
            "[1168 rows x 36 columns]\n"
          ]
        }
      ]
    },
    {
      "cell_type": "code",
      "source": [
        "final_X_train[columns_with_missing].isnull().sum()"
      ],
      "metadata": {
        "colab": {
          "base_uri": "https://localhost:8080/"
        },
        "id": "e76BnYlPKDIy",
        "outputId": "94b1293e-57ae-4157-9939-5328bee3c56a"
      },
      "execution_count": 24,
      "outputs": [
        {
          "output_type": "execute_result",
          "data": {
            "text/plain": [
              "LotFrontage    0\n",
              "MasVnrArea     0\n",
              "GarageYrBlt    0\n",
              "dtype: int64"
            ]
          },
          "metadata": {},
          "execution_count": 24
        }
      ]
    },
    {
      "cell_type": "markdown",
      "source": [
        "Run the next code cell to train and evaluate a random forest model.  (*Note that we don't use the `score_dataset()` function above, because we will soon use the trained model to generate test predictions!*)"
      ],
      "metadata": {
        "id": "SBkZY150zHVH"
      }
    },
    {
      "cell_type": "code",
      "source": [
        "# Define and fit model\n",
        "model = RandomForestRegressor(n_estimators=100, random_state=0)\n",
        "model.fit(final_X_train, y_train)\n",
        "\n",
        "# Get validation predictions and MAE\n",
        "preds_valid = model.predict(final_X_valid)\n",
        "print(\"MAE (Imputation with zero):\")\n",
        "print(mean_absolute_error(y_valid, preds_valid))"
      ],
      "metadata": {
        "id": "aRD5rM16zDdY",
        "colab": {
          "base_uri": "https://localhost:8080/"
        },
        "outputId": "a8fdf64b-23d2-474e-9bb4-775d03fb92be"
      },
      "execution_count": 25,
      "outputs": [
        {
          "output_type": "stream",
          "name": "stdout",
          "text": [
            "MAE (Imputation with zero):\n",
            "16430.385148401827\n"
          ]
        }
      ]
    },
    {
      "cell_type": "markdown",
      "source": [
        "Imputation with zero leads to better results than mean imputation but worse results than dropping the columns."
      ],
      "metadata": {
        "id": "bl6NVYBIMYfS"
      }
    },
    {
      "cell_type": "markdown",
      "source": [
        "### Part B\n",
        "\n",
        "Use the next code cell to preprocess your test data.  Make sure that you use a method that agrees with how you preprocessed the training and validation data, and set the preprocessed test features to `final_X_test`.\n",
        "\n",
        "Then, use the preprocessed test features and the trained model to generate test predictions in `preds_test`.\n",
        "\n",
        "In order for this step to be marked correct, you need only ensure:\n",
        "- the preprocessed test DataFrame has no missing values, and\n",
        "- `final_X_test` has the same number of rows as `X_test`."
      ],
      "metadata": {
        "id": "FY2QOsx7zLPX"
      }
    },
    {
      "cell_type": "code",
      "source": [
        "# Fill in the line below: preprocess test data\n",
        "final_X_test = pd.DataFrame(my_imputer.transform(X_test))\n",
        "\n",
        "# Fill in the line below: get test predictions\n",
        "preds_test =model.predict(final_X_test)"
      ],
      "metadata": {
        "id": "3htLrd3zzJff",
        "colab": {
          "base_uri": "https://localhost:8080/"
        },
        "outputId": "c174cfb9-4674-4478-cc5c-ce622258d219"
      },
      "execution_count": 26,
      "outputs": [
        {
          "output_type": "stream",
          "name": "stderr",
          "text": [
            "/usr/local/lib/python3.10/dist-packages/sklearn/base.py:439: UserWarning: X does not have valid feature names, but RandomForestRegressor was fitted with feature names\n",
            "  warnings.warn(\n"
          ]
        }
      ]
    },
    {
      "cell_type": "markdown",
      "source": [
        "Run the next code cell without changes to save your results to a CSV file that can be submitted directly to the competition."
      ],
      "metadata": {
        "id": "5fAUKCVFzUno"
      }
    },
    {
      "cell_type": "code",
      "source": [
        "# Save test predictions to file\n",
        "output = pd.DataFrame({'Id': X_test.index,\n",
        "                       'SalePrice': preds_test})\n",
        "output.to_csv('submission.csv', index=False)"
      ],
      "metadata": {
        "id": "aSN6Gos1zU6-"
      },
      "execution_count": 27,
      "outputs": []
    }
  ]
}